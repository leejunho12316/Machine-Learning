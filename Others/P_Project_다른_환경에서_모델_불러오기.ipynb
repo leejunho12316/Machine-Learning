{
  "cells": [
    {
      "cell_type": "markdown",
      "metadata": {
        "id": "view-in-github",
        "colab_type": "text"
      },
      "source": [
        "<a href=\"https://colab.research.google.com/github/leejunho12316/Machine-Learning/blob/main/P_Project_%EB%8B%A4%EB%A5%B8_%ED%99%98%EA%B2%BD%EC%97%90%EC%84%9C_%EB%AA%A8%EB%8D%B8_%EB%B6%88%EB%9F%AC%EC%98%A4%EA%B8%B0.ipynb\" target=\"_parent\"><img src=\"https://colab.research.google.com/assets/colab-badge.svg\" alt=\"Open In Colab\"/></a>"
      ]
    },
    {
      "cell_type": "code",
      "execution_count": null,
      "id": "3e913701",
      "metadata": {
        "id": "3e913701"
      },
      "outputs": [],
      "source": [
        "Python 3.10\n",
        "Tensorflow 2.13.0\n",
        "tensorflow-text 2.13.0\n",
        "tensorflow-models-official 2.13.1"
      ]
    },
    {
      "cell_type": "code",
      "execution_count": null,
      "id": "cdb8a6d5",
      "metadata": {
        "scrolled": true,
        "id": "cdb8a6d5",
        "outputId": "40552d9f-8fb6-44b0-a718-2cd9cbc64d81"
      },
      "outputs": [
        {
          "name": "stdout",
          "output_type": "stream",
          "text": [
            "Requirement already satisfied: tf-models-official==2.10.0 in c:\\users\\hane\\anaconda3\\lib\\site-packages (2.10.0)\n",
            "Requirement already satisfied: tensorflow-hub>=0.6.0 in c:\\users\\hane\\anaconda3\\lib\\site-packages (from tf-models-official==2.10.0) (0.15.0)\n",
            "Requirement already satisfied: google-api-python-client>=1.6.7 in c:\\users\\hane\\anaconda3\\lib\\site-packages (from tf-models-official==2.10.0) (2.109.0)\n",
            "Requirement already satisfied: oauth2client in c:\\users\\hane\\anaconda3\\lib\\site-packages (from tf-models-official==2.10.0) (4.1.3)\n",
            "Requirement already satisfied: kaggle>=1.3.9 in c:\\users\\hane\\anaconda3\\lib\\site-packages (from tf-models-official==2.10.0) (1.5.16)\n",
            "Requirement already satisfied: tensorflow-addons in c:\\users\\hane\\anaconda3\\lib\\site-packages (from tf-models-official==2.10.0) (0.22.0)\n",
            "Requirement already satisfied: matplotlib in c:\\users\\hane\\anaconda3\\lib\\site-packages (from tf-models-official==2.10.0) (3.5.2)\n",
            "Requirement already satisfied: tf-slim>=1.1.0 in c:\\users\\hane\\anaconda3\\lib\\site-packages (from tf-models-official==2.10.0) (1.1.0)\n",
            "Requirement already satisfied: py-cpuinfo>=3.3.0 in c:\\users\\hane\\anaconda3\\lib\\site-packages (from tf-models-official==2.10.0) (9.0.0)\n",
            "Requirement already satisfied: Pillow in c:\\users\\hane\\anaconda3\\lib\\site-packages (from tf-models-official==2.10.0) (9.2.0)\n",
            "Requirement already satisfied: pycocotools in c:\\users\\hane\\anaconda3\\lib\\site-packages (from tf-models-official==2.10.0) (2.0.7)\n",
            "Requirement already satisfied: tensorflow-model-optimization>=0.4.1 in c:\\users\\hane\\anaconda3\\lib\\site-packages (from tf-models-official==2.10.0) (0.7.5)\n",
            "Requirement already satisfied: tensorflow-text~=2.10.0 in c:\\users\\hane\\anaconda3\\lib\\site-packages (from tf-models-official==2.10.0) (2.10.0)\n",
            "Requirement already satisfied: sentencepiece in c:\\users\\hane\\anaconda3\\lib\\site-packages (from tf-models-official==2.10.0) (0.1.99)\n",
            "Requirement already satisfied: gin-config in c:\\users\\hane\\anaconda3\\lib\\site-packages (from tf-models-official==2.10.0) (0.5.0)\n",
            "Requirement already satisfied: numpy>=1.20 in c:\\users\\hane\\anaconda3\\lib\\site-packages (from tf-models-official==2.10.0) (1.24.4)\n",
            "Requirement already satisfied: opencv-python-headless==4.5.2.52 in c:\\users\\hane\\anaconda3\\lib\\site-packages (from tf-models-official==2.10.0) (4.5.2.52)\n",
            "Requirement already satisfied: psutil>=5.4.3 in c:\\users\\hane\\anaconda3\\lib\\site-packages (from tf-models-official==2.10.0) (5.9.0)\n",
            "Requirement already satisfied: tensorflow~=2.10.0 in c:\\users\\hane\\anaconda3\\lib\\site-packages (from tf-models-official==2.10.0) (2.10.1)\n",
            "Requirement already satisfied: scipy>=0.19.1 in c:\\users\\hane\\anaconda3\\lib\\site-packages (from tf-models-official==2.10.0) (1.9.1)\n",
            "Requirement already satisfied: tensorflow-datasets in c:\\users\\hane\\anaconda3\\lib\\site-packages (from tf-models-official==2.10.0) (4.9.0)\n",
            "Requirement already satisfied: six in c:\\users\\hane\\anaconda3\\lib\\site-packages (from tf-models-official==2.10.0) (1.16.0)\n",
            "Requirement already satisfied: immutabledict in c:\\users\\hane\\anaconda3\\lib\\site-packages (from tf-models-official==2.10.0) (4.0.0)\n",
            "Requirement already satisfied: pandas>=0.22.0 in c:\\users\\hane\\anaconda3\\lib\\site-packages (from tf-models-official==2.10.0) (1.4.4)\n",
            "Requirement already satisfied: pyyaml<6.0,>=5.1 in c:\\users\\hane\\anaconda3\\lib\\site-packages (from tf-models-official==2.10.0) (5.4.1)\n",
            "Requirement already satisfied: seqeval in c:\\users\\hane\\anaconda3\\lib\\site-packages (from tf-models-official==2.10.0) (1.2.2)\n",
            "Requirement already satisfied: Cython in c:\\users\\hane\\anaconda3\\lib\\site-packages (from tf-models-official==2.10.0) (0.29.32)\n",
            "Requirement already satisfied: sacrebleu==2.2.0 in c:\\users\\hane\\anaconda3\\lib\\site-packages (from tf-models-official==2.10.0) (2.2.0)\n",
            "Requirement already satisfied: tabulate>=0.8.9 in c:\\users\\hane\\anaconda3\\lib\\site-packages (from sacrebleu==2.2.0->tf-models-official==2.10.0) (0.8.10)\n",
            "Requirement already satisfied: portalocker in c:\\users\\hane\\anaconda3\\lib\\site-packages (from sacrebleu==2.2.0->tf-models-official==2.10.0) (2.8.2)\n",
            "Requirement already satisfied: colorama in c:\\users\\hane\\anaconda3\\lib\\site-packages (from sacrebleu==2.2.0->tf-models-official==2.10.0) (0.4.5)\n",
            "Requirement already satisfied: regex in c:\\users\\hane\\anaconda3\\lib\\site-packages (from sacrebleu==2.2.0->tf-models-official==2.10.0) (2022.7.9)\n",
            "Requirement already satisfied: lxml in c:\\users\\hane\\anaconda3\\lib\\site-packages (from sacrebleu==2.2.0->tf-models-official==2.10.0) (4.9.1)\n",
            "Requirement already satisfied: google-auth<3.0.0.dev0,>=1.19.0 in c:\\users\\hane\\anaconda3\\lib\\site-packages (from google-api-python-client>=1.6.7->tf-models-official==2.10.0) (2.25.1)\n",
            "Requirement already satisfied: uritemplate<5,>=3.0.1 in c:\\users\\hane\\anaconda3\\lib\\site-packages (from google-api-python-client>=1.6.7->tf-models-official==2.10.0) (4.1.1)\n",
            "Requirement already satisfied: httplib2<1.dev0,>=0.15.0 in c:\\users\\hane\\anaconda3\\lib\\site-packages (from google-api-python-client>=1.6.7->tf-models-official==2.10.0) (0.22.0)\n",
            "Requirement already satisfied: google-auth-httplib2>=0.1.0 in c:\\users\\hane\\anaconda3\\lib\\site-packages (from google-api-python-client>=1.6.7->tf-models-official==2.10.0) (0.1.1)\n",
            "Requirement already satisfied: google-api-core!=2.0.*,!=2.1.*,!=2.2.*,!=2.3.0,<3.0.0.dev0,>=1.31.5 in c:\\users\\hane\\anaconda3\\lib\\site-packages (from google-api-python-client>=1.6.7->tf-models-official==2.10.0) (2.14.0)\n",
            "Requirement already satisfied: requests in c:\\users\\hane\\anaconda3\\lib\\site-packages (from kaggle>=1.3.9->tf-models-official==2.10.0) (2.31.0)\n",
            "Requirement already satisfied: urllib3 in c:\\users\\hane\\anaconda3\\lib\\site-packages (from kaggle>=1.3.9->tf-models-official==2.10.0) (1.26.11)\n",
            "Requirement already satisfied: python-slugify in c:\\users\\hane\\anaconda3\\lib\\site-packages (from kaggle>=1.3.9->tf-models-official==2.10.0) (5.0.2)\n",
            "Requirement already satisfied: bleach in c:\\users\\hane\\anaconda3\\lib\\site-packages (from kaggle>=1.3.9->tf-models-official==2.10.0) (4.1.0)\n",
            "Requirement already satisfied: certifi in c:\\users\\hane\\anaconda3\\lib\\site-packages (from kaggle>=1.3.9->tf-models-official==2.10.0) (2022.9.14)\n",
            "Requirement already satisfied: tqdm in c:\\users\\hane\\anaconda3\\lib\\site-packages (from kaggle>=1.3.9->tf-models-official==2.10.0) (4.64.1)\n",
            "Requirement already satisfied: python-dateutil in c:\\users\\hane\\anaconda3\\lib\\site-packages (from kaggle>=1.3.9->tf-models-official==2.10.0) (2.8.2)\n",
            "Requirement already satisfied: pytz>=2020.1 in c:\\users\\hane\\anaconda3\\lib\\site-packages (from pandas>=0.22.0->tf-models-official==2.10.0) (2023.3.post1)\n",
            "Requirement already satisfied: packaging in c:\\users\\hane\\anaconda3\\lib\\site-packages (from tensorflow~=2.10.0->tf-models-official==2.10.0) (21.3)\n",
            "Requirement already satisfied: keras<2.11,>=2.10.0 in c:\\users\\hane\\anaconda3\\lib\\site-packages (from tensorflow~=2.10.0->tf-models-official==2.10.0) (2.10.0)\n",
            "Requirement already satisfied: absl-py>=1.0.0 in c:\\users\\hane\\anaconda3\\lib\\site-packages (from tensorflow~=2.10.0->tf-models-official==2.10.0) (1.4.0)\n",
            "Requirement already satisfied: typing-extensions>=3.6.6 in c:\\users\\hane\\anaconda3\\lib\\site-packages (from tensorflow~=2.10.0->tf-models-official==2.10.0) (4.3.0)\n",
            "Requirement already satisfied: astunparse>=1.6.0 in c:\\users\\hane\\anaconda3\\lib\\site-packages (from tensorflow~=2.10.0->tf-models-official==2.10.0) (1.6.3)\n",
            "Requirement already satisfied: h5py>=2.9.0 in c:\\users\\hane\\anaconda3\\lib\\site-packages (from tensorflow~=2.10.0->tf-models-official==2.10.0) (3.7.0)\n",
            "Requirement already satisfied: grpcio<2.0,>=1.24.3 in c:\\users\\hane\\anaconda3\\lib\\site-packages (from tensorflow~=2.10.0->tf-models-official==2.10.0) (1.59.3)\n",
            "Requirement already satisfied: setuptools in c:\\users\\hane\\anaconda3\\lib\\site-packages (from tensorflow~=2.10.0->tf-models-official==2.10.0) (63.4.1)\n",
            "Requirement already satisfied: google-pasta>=0.1.1 in c:\\users\\hane\\anaconda3\\lib\\site-packages (from tensorflow~=2.10.0->tf-models-official==2.10.0) (0.2.0)\n",
            "Requirement already satisfied: opt-einsum>=2.3.2 in c:\\users\\hane\\anaconda3\\lib\\site-packages (from tensorflow~=2.10.0->tf-models-official==2.10.0) (3.3.0)\n",
            "Requirement already satisfied: keras-preprocessing>=1.1.1 in c:\\users\\hane\\anaconda3\\lib\\site-packages (from tensorflow~=2.10.0->tf-models-official==2.10.0) (1.1.2)\n",
            "Requirement already satisfied: libclang>=13.0.0 in c:\\users\\hane\\anaconda3\\lib\\site-packages (from tensorflow~=2.10.0->tf-models-official==2.10.0) (16.0.6)\n",
            "Requirement already satisfied: protobuf<3.20,>=3.9.2 in c:\\users\\hane\\anaconda3\\lib\\site-packages (from tensorflow~=2.10.0->tf-models-official==2.10.0) (3.19.6)\n",
            "Requirement already satisfied: termcolor>=1.1.0 in c:\\users\\hane\\anaconda3\\lib\\site-packages (from tensorflow~=2.10.0->tf-models-official==2.10.0) (2.4.0)\n",
            "Requirement already satisfied: flatbuffers>=2.0 in c:\\users\\hane\\anaconda3\\lib\\site-packages (from tensorflow~=2.10.0->tf-models-official==2.10.0) (23.5.26)\n",
            "Requirement already satisfied: tensorflow-estimator<2.11,>=2.10.0 in c:\\users\\hane\\anaconda3\\lib\\site-packages (from tensorflow~=2.10.0->tf-models-official==2.10.0) (2.10.0)\n",
            "Requirement already satisfied: tensorboard<2.11,>=2.10 in c:\\users\\hane\\anaconda3\\lib\\site-packages (from tensorflow~=2.10.0->tf-models-official==2.10.0) (2.10.1)\n",
            "Requirement already satisfied: tensorflow-io-gcs-filesystem>=0.23.1 in c:\\users\\hane\\anaconda3\\lib\\site-packages (from tensorflow~=2.10.0->tf-models-official==2.10.0) (0.31.0)\n",
            "Requirement already satisfied: wrapt>=1.11.0 in c:\\users\\hane\\anaconda3\\lib\\site-packages (from tensorflow~=2.10.0->tf-models-official==2.10.0) (1.14.1)\n",
            "Requirement already satisfied: gast<=0.4.0,>=0.2.1 in c:\\users\\hane\\anaconda3\\lib\\site-packages (from tensorflow~=2.10.0->tf-models-official==2.10.0) (0.4.0)\n",
            "Requirement already satisfied: dm-tree~=0.1.1 in c:\\users\\hane\\anaconda3\\lib\\site-packages (from tensorflow-model-optimization>=0.4.1->tf-models-official==2.10.0) (0.1.8)\n",
            "Requirement already satisfied: cycler>=0.10 in c:\\users\\hane\\anaconda3\\lib\\site-packages (from matplotlib->tf-models-official==2.10.0) (0.11.0)\n",
            "Requirement already satisfied: pyparsing>=2.2.1 in c:\\users\\hane\\anaconda3\\lib\\site-packages (from matplotlib->tf-models-official==2.10.0) (3.0.9)\n",
            "Requirement already satisfied: fonttools>=4.22.0 in c:\\users\\hane\\anaconda3\\lib\\site-packages (from matplotlib->tf-models-official==2.10.0) (4.25.0)\n",
            "Requirement already satisfied: kiwisolver>=1.0.1 in c:\\users\\hane\\anaconda3\\lib\\site-packages (from matplotlib->tf-models-official==2.10.0) (1.4.2)\n",
            "Requirement already satisfied: pyasn1-modules>=0.0.5 in c:\\users\\hane\\anaconda3\\lib\\site-packages (from oauth2client->tf-models-official==2.10.0) (0.2.8)\n",
            "Requirement already satisfied: rsa>=3.1.4 in c:\\users\\hane\\anaconda3\\lib\\site-packages (from oauth2client->tf-models-official==2.10.0) (4.9)\n",
            "Requirement already satisfied: pyasn1>=0.1.7 in c:\\users\\hane\\anaconda3\\lib\\site-packages (from oauth2client->tf-models-official==2.10.0) (0.4.8)\n",
            "Requirement already satisfied: scikit-learn>=0.21.3 in c:\\users\\hane\\anaconda3\\lib\\site-packages (from seqeval->tf-models-official==2.10.0) (1.0.2)\n",
            "Requirement already satisfied: typeguard<3.0.0,>=2.7 in c:\\users\\hane\\anaconda3\\lib\\site-packages (from tensorflow-addons->tf-models-official==2.10.0) (2.13.3)\n",
            "Requirement already satisfied: click in c:\\users\\hane\\anaconda3\\lib\\site-packages (from tensorflow-datasets->tf-models-official==2.10.0) (8.0.4)\n",
            "Requirement already satisfied: array-record in c:\\users\\hane\\anaconda3\\lib\\site-packages (from tensorflow-datasets->tf-models-official==2.10.0) (0.4.1)\n",
            "Requirement already satisfied: promise in c:\\users\\hane\\anaconda3\\lib\\site-packages (from tensorflow-datasets->tf-models-official==2.10.0) (2.3)\n",
            "Requirement already satisfied: etils[enp,epath]>=0.9.0 in c:\\users\\hane\\anaconda3\\lib\\site-packages (from tensorflow-datasets->tf-models-official==2.10.0) (1.5.2)\n",
            "Requirement already satisfied: tensorflow-metadata in c:\\users\\hane\\anaconda3\\lib\\site-packages (from tensorflow-datasets->tf-models-official==2.10.0) (1.13.0)\n",
            "Requirement already satisfied: toml in c:\\users\\hane\\anaconda3\\lib\\site-packages (from tensorflow-datasets->tf-models-official==2.10.0) (0.10.2)\n",
            "Requirement already satisfied: wheel<1.0,>=0.23.0 in c:\\users\\hane\\anaconda3\\lib\\site-packages (from astunparse>=1.6.0->tensorflow~=2.10.0->tf-models-official==2.10.0) (0.37.1)\n",
            "Requirement already satisfied: importlib_resources in c:\\users\\hane\\anaconda3\\lib\\site-packages (from etils[enp,epath]>=0.9.0->tensorflow-datasets->tf-models-official==2.10.0) (6.1.1)\n",
            "Requirement already satisfied: fsspec in c:\\users\\hane\\anaconda3\\lib\\site-packages (from etils[enp,epath]>=0.9.0->tensorflow-datasets->tf-models-official==2.10.0) (2022.7.1)\n",
            "Requirement already satisfied: zipp in c:\\users\\hane\\anaconda3\\lib\\site-packages (from etils[enp,epath]>=0.9.0->tensorflow-datasets->tf-models-official==2.10.0) (3.8.0)\n",
            "Requirement already satisfied: googleapis-common-protos<2.0.dev0,>=1.56.2 in c:\\users\\hane\\anaconda3\\lib\\site-packages (from google-api-core!=2.0.*,!=2.1.*,!=2.2.*,!=2.3.0,<3.0.0.dev0,>=1.31.5->google-api-python-client>=1.6.7->tf-models-official==2.10.0) (1.61.0)\n",
            "Requirement already satisfied: cachetools<6.0,>=2.0.0 in c:\\users\\hane\\anaconda3\\lib\\site-packages (from google-auth<3.0.0.dev0,>=1.19.0->google-api-python-client>=1.6.7->tf-models-official==2.10.0) (5.3.2)\n",
            "Requirement already satisfied: idna<4,>=2.5 in c:\\users\\hane\\anaconda3\\lib\\site-packages (from requests->kaggle>=1.3.9->tf-models-official==2.10.0) (3.3)\n",
            "Requirement already satisfied: charset-normalizer<4,>=2 in c:\\users\\hane\\anaconda3\\lib\\site-packages (from requests->kaggle>=1.3.9->tf-models-official==2.10.0) (2.0.4)\n",
            "Requirement already satisfied: joblib>=0.11 in c:\\users\\hane\\anaconda3\\lib\\site-packages (from scikit-learn>=0.21.3->seqeval->tf-models-official==2.10.0) (1.1.0)\n",
            "Requirement already satisfied: threadpoolctl>=2.0.0 in c:\\users\\hane\\anaconda3\\lib\\site-packages (from scikit-learn>=0.21.3->seqeval->tf-models-official==2.10.0) (2.2.0)\n",
            "Requirement already satisfied: werkzeug>=1.0.1 in c:\\users\\hane\\anaconda3\\lib\\site-packages (from tensorboard<2.11,>=2.10->tensorflow~=2.10.0->tf-models-official==2.10.0) (2.0.3)\n",
            "Requirement already satisfied: tensorboard-data-server<0.7.0,>=0.6.0 in c:\\users\\hane\\anaconda3\\lib\\site-packages (from tensorboard<2.11,>=2.10->tensorflow~=2.10.0->tf-models-official==2.10.0) (0.6.1)\n",
            "Requirement already satisfied: google-auth-oauthlib<0.5,>=0.4.1 in c:\\users\\hane\\anaconda3\\lib\\site-packages (from tensorboard<2.11,>=2.10->tensorflow~=2.10.0->tf-models-official==2.10.0) (0.4.6)\n",
            "Requirement already satisfied: tensorboard-plugin-wit>=1.6.0 in c:\\users\\hane\\anaconda3\\lib\\site-packages (from tensorboard<2.11,>=2.10->tensorflow~=2.10.0->tf-models-official==2.10.0) (1.8.1)\n",
            "Requirement already satisfied: markdown>=2.6.8 in c:\\users\\hane\\anaconda3\\lib\\site-packages (from tensorboard<2.11,>=2.10->tensorflow~=2.10.0->tf-models-official==2.10.0) (3.3.4)\n",
            "Requirement already satisfied: webencodings in c:\\users\\hane\\anaconda3\\lib\\site-packages (from bleach->kaggle>=1.3.9->tf-models-official==2.10.0) (0.5.1)\n",
            "Requirement already satisfied: pywin32>=226 in c:\\users\\hane\\anaconda3\\lib\\site-packages (from portalocker->sacrebleu==2.2.0->tf-models-official==2.10.0) (302)\n",
            "Requirement already satisfied: text-unidecode>=1.3 in c:\\users\\hane\\anaconda3\\lib\\site-packages (from python-slugify->kaggle>=1.3.9->tf-models-official==2.10.0) (1.3)\n",
            "Requirement already satisfied: requests-oauthlib>=0.7.0 in c:\\users\\hane\\anaconda3\\lib\\site-packages (from google-auth-oauthlib<0.5,>=0.4.1->tensorboard<2.11,>=2.10->tensorflow~=2.10.0->tf-models-official==2.10.0) (1.3.1)\n",
            "Requirement already satisfied: oauthlib>=3.0.0 in c:\\users\\hane\\anaconda3\\lib\\site-packages (from requests-oauthlib>=0.7.0->google-auth-oauthlib<0.5,>=0.4.1->tensorboard<2.11,>=2.10->tensorflow~=2.10.0->tf-models-official==2.10.0) (3.2.2)\n",
            "Note: you may need to restart the kernel to use updated packages.\n"
          ]
        }
      ],
      "source": [
        "pip install \"tf-models-official==2.10.0\""
      ]
    },
    {
      "cell_type": "code",
      "execution_count": null,
      "id": "2695cfcb",
      "metadata": {
        "id": "2695cfcb"
      },
      "outputs": [],
      "source": [
        "import tensorflow as tf\n",
        "from tensorflow.keras.models import load_model\n",
        "import tensorflow_text\n",
        "import zipfile\n",
        "\n",
        "zip_path = 'C:/Users/Hane/Downloads/my_model_ver2.zip'\n",
        "dest_path = 'C:/Users/Hane/Downloads/ML_Model_ver2'\n",
        "with zipfile.ZipFile(zip_path, 'r') as zip_ref:\n",
        "    zip_ref.extractall(dest_path)\n",
        "model_path = 'C:/Users/Hane/Downloads/ML_Model_ver2/first_model'\n",
        "\n",
        "\n",
        "# LoadOptions 설정\n",
        "#load_options = tf.saved_model.LoadOptions(experimental_io_device='/job:localhost')\n",
        "\n",
        "# 모델 로드 시 LoadOptions 적용\n",
        "#model = tf.saved_model.load(model_path, options=load_options)\n",
        "\n",
        "\n",
        "\n",
        "#모델 불러오기 - AdamW는 checkpoint를 지원하지 않아 모델을 load하고 다시 컴파일을 할 수 없으니 오류가 난다. compile=False를 지정해주어서 나는 그걸 안할것이라고 명시해주어야 한다.\n",
        "model = load_model(model_path,compile=False)\n"
      ]
    },
    {
      "cell_type": "code",
      "execution_count": null,
      "id": "26955757",
      "metadata": {
        "id": "26955757",
        "outputId": "1cf31138-f494-4929-960c-fe18ad740368"
      },
      "outputs": [
        {
          "name": "stdout",
          "output_type": "stream",
          "text": [
            "1/1 [==============================] - 0s 132ms/step\n",
            "[-1.160527] c\n",
            "신뢰도23.857154846191406%로, 낚시성 기사입니다\n"
          ]
        }
      ],
      "source": [
        "text=['이런! 털썩! 젠장할! 망한 세계... 충격! 2019년 15월 29일, 나의 보도에 따르면 세상은 망하고 말았다. 엄청난 크기의 소행성이 지구에 들이닥쳐 모두를 죽여버린 것이다. 이럴수가! 충격!']\n",
        "\n",
        "prediction = model.predict(text)\n",
        "\n",
        "res = 'nc' if prediction[0] >=0.5 else 'c'\n",
        "percentage = tf.sigmoid(prediction[0][0])\n",
        "\n",
        "print(prediction[0],res)\n",
        "if res=='nc':\n",
        "  print(f'신뢰도 {percentage*100}%로, 낚시성 기사가 아닙니다')\n",
        "else:\n",
        "  print(f'신뢰도{percentage*100}%로, 낚시성 기사입니다')"
      ]
    },
    {
      "cell_type": "code",
      "execution_count": null,
      "id": "f3c5d2b8",
      "metadata": {
        "id": "f3c5d2b8"
      },
      "outputs": [],
      "source": []
    }
  ],
  "metadata": {
    "kernelspec": {
      "display_name": "Python 3 (ipykernel)",
      "language": "python",
      "name": "python3"
    },
    "language_info": {
      "codemirror_mode": {
        "name": "ipython",
        "version": 3
      },
      "file_extension": ".py",
      "mimetype": "text/x-python",
      "name": "python",
      "nbconvert_exporter": "python",
      "pygments_lexer": "ipython3",
      "version": "3.9.13"
    },
    "colab": {
      "provenance": [],
      "include_colab_link": true
    }
  },
  "nbformat": 4,
  "nbformat_minor": 5
}
