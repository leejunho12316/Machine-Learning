{
  "nbformat": 4,
  "nbformat_minor": 0,
  "metadata": {
    "colab": {
      "provenance": [],
      "gpuType": "T4",
      "authorship_tag": "ABX9TyNMiIA+96d4QZL1BTMQfp3H",
      "include_colab_link": true
    },
    "kernelspec": {
      "name": "python3",
      "display_name": "Python 3"
    },
    "language_info": {
      "name": "python"
    },
    "accelerator": "GPU"
  },
  "cells": [
    {
      "cell_type": "markdown",
      "metadata": {
        "id": "view-in-github",
        "colab_type": "text"
      },
      "source": [
        "<a href=\"https://colab.research.google.com/github/leejunho12316/P-Project-Machine-Learning/blob/main/processPattern_%EB%B6%84%EB%A5%98_%EB%8B%A4%EC%A4%91_%ED%81%B4%EB%9E%98%EC%8A%A4_%EB%AA%A8%EB%8D%B8.ipynb\" target=\"_parent\"><img src=\"https://colab.research.google.com/assets/colab-badge.svg\" alt=\"Open In Colab\"/></a>"
      ]
    },
    {
      "cell_type": "markdown",
      "source": [
        "## 시작\n",
        "패키지 install, 함수 정의"
      ],
      "metadata": {
        "id": "OJPSTDzyzIhe"
      }
    },
    {
      "cell_type": "markdown",
      "source": [
        "https://wikidocs.net/192931\n"
      ],
      "metadata": {
        "id": "VkU_XpyovwZ2"
      }
    },
    {
      "cell_type": "code",
      "source": [
        "pip install jpype1"
      ],
      "metadata": {
        "id": "b-JVCazvsFYe",
        "colab": {
          "base_uri": "https://localhost:8080/"
        },
        "outputId": "f61102eb-667b-47fd-b38a-871b7b3ad46b"
      },
      "execution_count": 1,
      "outputs": [
        {
          "output_type": "stream",
          "name": "stdout",
          "text": [
            "Collecting jpype1\n",
            "  Downloading JPype1-1.4.1-cp310-cp310-manylinux_2_12_x86_64.manylinux2010_x86_64.whl (465 kB)\n",
            "\u001b[2K     \u001b[90m━━━━━━━━━━━━━━━━━━━━━━━━━━━━━━━━━━━━━━━━\u001b[0m \u001b[32m465.3/465.3 kB\u001b[0m \u001b[31m4.1 MB/s\u001b[0m eta \u001b[36m0:00:00\u001b[0m\n",
            "\u001b[?25hRequirement already satisfied: packaging in /usr/local/lib/python3.10/dist-packages (from jpype1) (23.2)\n",
            "Installing collected packages: jpype1\n",
            "Successfully installed jpype1-1.4.1\n"
          ]
        }
      ]
    },
    {
      "cell_type": "code",
      "source": [
        "pip install konlpy"
      ],
      "metadata": {
        "id": "OgiAX981sG0Y",
        "colab": {
          "base_uri": "https://localhost:8080/"
        },
        "outputId": "7dae8e5e-eb62-43b7-f35b-514f32986575"
      },
      "execution_count": 2,
      "outputs": [
        {
          "output_type": "stream",
          "name": "stdout",
          "text": [
            "Collecting konlpy\n",
            "  Downloading konlpy-0.6.0-py2.py3-none-any.whl (19.4 MB)\n",
            "\u001b[2K     \u001b[90m━━━━━━━━━━━━━━━━━━━━━━━━━━━━━━━━━━━━━━━━\u001b[0m \u001b[32m19.4/19.4 MB\u001b[0m \u001b[31m70.7 MB/s\u001b[0m eta \u001b[36m0:00:00\u001b[0m\n",
            "\u001b[?25hRequirement already satisfied: JPype1>=0.7.0 in /usr/local/lib/python3.10/dist-packages (from konlpy) (1.4.1)\n",
            "Requirement already satisfied: lxml>=4.1.0 in /usr/local/lib/python3.10/dist-packages (from konlpy) (4.9.3)\n",
            "Requirement already satisfied: numpy>=1.6 in /usr/local/lib/python3.10/dist-packages (from konlpy) (1.23.5)\n",
            "Requirement already satisfied: packaging in /usr/local/lib/python3.10/dist-packages (from JPype1>=0.7.0->konlpy) (23.2)\n",
            "Installing collected packages: konlpy\n",
            "Successfully installed konlpy-0.6.0\n"
          ]
        }
      ]
    },
    {
      "cell_type": "code",
      "source": [
        "pip install sentencepiece"
      ],
      "metadata": {
        "id": "EL4wlS_mtOrL",
        "colab": {
          "base_uri": "https://localhost:8080/"
        },
        "outputId": "43964649-3954-4cc1-9d42-70a230a8a15f"
      },
      "execution_count": 3,
      "outputs": [
        {
          "output_type": "stream",
          "name": "stdout",
          "text": [
            "Collecting sentencepiece\n",
            "  Downloading sentencepiece-0.1.99-cp310-cp310-manylinux_2_17_x86_64.manylinux2014_x86_64.whl (1.3 MB)\n",
            "\u001b[2K     \u001b[90m━━━━━━━━━━━━━━━━━━━━━━━━━━━━━━━━━━━━━━━━\u001b[0m \u001b[32m1.3/1.3 MB\u001b[0m \u001b[31m8.8 MB/s\u001b[0m eta \u001b[36m0:00:00\u001b[0m\n",
            "\u001b[?25hInstalling collected packages: sentencepiece\n",
            "Successfully installed sentencepiece-0.1.99\n"
          ]
        }
      ]
    },
    {
      "cell_type": "code",
      "source": [
        "#한글파일 unzip시 깨짐 encoding decoding으로 방지하는 함수, num개만 압축해제\n",
        "def unzip(source_path, dest_path):\n",
        "  with zipfile.ZipFile(source_path, 'r') as zf:\n",
        "    zipInfo = zf.infolist()\n",
        "    for member in zipInfo:\n",
        "      try:\n",
        "        #print(member.filename.encode('cp437').decode('euc-kr','ignore'))\n",
        "        member.filename = member.filename.encode('cp437').decode('euc-kr','ignore')\n",
        "        zf.extract(member,dest_path)\n",
        "      except:\n",
        "        print(source_path)\n",
        "        raise Exception('??')"
      ],
      "metadata": {
        "id": "XbnSxMtmE93w"
      },
      "execution_count": 4,
      "outputs": []
    },
    {
      "cell_type": "markdown",
      "source": [
        "## 데이터 준비\n",
        "데이터 다운로드"
      ],
      "metadata": {
        "id": "yRCeHJvpAavu"
      }
    },
    {
      "cell_type": "code",
      "execution_count": 5,
      "metadata": {
        "id": "OZeSzFer91zV"
      },
      "outputs": [],
      "source": [
        "from google.colab import drive\n",
        "import shutil\n",
        "import zipfile\n",
        "import os\n",
        "\n",
        "import json"
      ]
    },
    {
      "cell_type": "code",
      "source": [
        "drive.mount('/content/drive')\n",
        "\n",
        "source_path = '/content/drive/MyDrive/ML_Data/146.낚시성 기사 탐지 데이터.zip'\n",
        "destination_path = '/content/146.낚시성 기사 탐지 데이터.zip'\n",
        "shutil.copyfile(source_path,destination_path)"
      ],
      "metadata": {
        "colab": {
          "base_uri": "https://localhost:8080/",
          "height": 53
        },
        "id": "MCgltYRr94D1",
        "outputId": "2be801b3-6dda-4b6d-f92e-531dafaf2439"
      },
      "execution_count": 6,
      "outputs": [
        {
          "output_type": "stream",
          "name": "stdout",
          "text": [
            "Mounted at /content/drive\n"
          ]
        },
        {
          "output_type": "execute_result",
          "data": {
            "text/plain": [
              "'/content/146.낚시성 기사 탐지 데이터.zip'"
            ],
            "application/vnd.google.colaboratory.intrinsic+json": {
              "type": "string"
            }
          },
          "metadata": {},
          "execution_count": 6
        }
      ]
    },
    {
      "cell_type": "markdown",
      "source": [
        "## Data 다운로드/압축해제\n",
        "원문 Clickbait Direct 만 뽑아 새로운 데이터셋 생성 - 본문/제목 다중입력"
      ],
      "metadata": {
        "id": "SbbbErUHyu2r"
      }
    },
    {
      "cell_type": "code",
      "source": [
        "#데이터 저장을 위한 경로 만들기\n",
        "root_path = '/content/root'\n",
        "training_data_path = os.path.join(root_path,'Training')\n",
        "test_data_path = os.path.join(root_path,'Test')\n",
        "\n",
        "p = [root_path,training_data_path,test_data_path]\n",
        "for i in p:\n",
        "  if not os.path.exists(i):\n",
        "    os.mkdir(i)"
      ],
      "metadata": {
        "id": "W4Q4xqlgFYag"
      },
      "execution_count": 7,
      "outputs": []
    },
    {
      "cell_type": "code",
      "source": [
        "#전체 중 Clickbait_Direct 아닌거 삭제 - Clickbait_Direct 만 processPattern 가짐\n",
        "unzip('/content/146.낚시성 기사 탐지 데이터.zip','/content')\n",
        "raw_data_path = '/content/146.낚시성 기사 탐지 데이터'\n",
        "\n",
        "for root,dirs,files in os.walk(raw_data_path):\n",
        "  for fn in files:\n",
        "    if 'Clickbait_Direct' not in fn or 'IS' in fn or 'LC' in fn or 'PO' in fn or 'SO' in fn or 'GB' in fn:\n",
        "      os.remove(root+'/'+fn)\n",
        "\n"
      ],
      "metadata": {
        "id": "uguErh06BvaU"
      },
      "execution_count": 8,
      "outputs": []
    },
    {
      "cell_type": "code",
      "source": [
        "#전체데이터 zip 풀어dataset 만들기\n",
        "for root,dirs,files in os.walk('/content/146.낚시성 기사 탐지 데이터/01.데이터/Training/02.라벨링데이터'):\n",
        "  for fn in files:\n",
        "    unzip(root+'/'+fn,training_data_path)\n",
        "for root,dirs,files in os.walk('/content/146.낚시성 기사 탐지 데이터/01.데이터/Validation/02.라벨링데이터'):\n",
        "  for fn in files:\n",
        "    unzip(root+'/'+fn, test_data_path)\n",
        "\n",
        "#(임시) zip 하나만 풀어서 dataset 만들기\n",
        "#a='/content/146.낚시성 기사 탐지 데이터/01.데이터/Training/02.라벨링데이터/TL_Part1_Clickbait_Direct_EC.zip'\n",
        "#b='/content/146.낚시성 기사 탐지 데이터/01.데이터/Training/02.라벨링데이터/TL_Part1_Clickbait_Direct_IS.zip'\n",
        "#unzip(a,training_data_path)\n",
        "#unzip(b,test_data_path)"
      ],
      "metadata": {
        "id": "G8lCSqPEin6o"
      },
      "execution_count": 9,
      "outputs": []
    },
    {
      "cell_type": "code",
      "source": [
        "a = '/content/root/Training'\n",
        "for root,dirs,files in os.walk(a):\n",
        "  print(len(files))"
      ],
      "metadata": {
        "colab": {
          "base_uri": "https://localhost:8080/"
        },
        "id": "PwlNKKGH4JkT",
        "outputId": "8e31482b-9d27-4aa1-b423-9239e0985204"
      },
      "execution_count": 10,
      "outputs": [
        {
          "output_type": "stream",
          "name": "stdout",
          "text": [
            "22229\n"
          ]
        }
      ]
    },
    {
      "cell_type": "markdown",
      "source": [
        "## 데이터 전처리"
      ],
      "metadata": {
        "id": "aG8_NSJry4LF"
      }
    },
    {
      "cell_type": "markdown",
      "source": [
        "본문->토큰화->벡터화(원-핫 인코딩)\n",
        "\n",
        "1.   train_data\n",
        "[본문.........],[본문..........]....\n",
        "2.   token_train_data\n",
        "[시퀀스시퀀스시퀀스],[시퀀스시퀀스시퀀스],[시퀀스시퀀스시퀀스]....\n",
        "3. x_train\n",
        "[0,0,0,0,1,0,0,,,,],[0,1,0,0,0,0,,,,,,],,,,,\n",
        "\n"
      ],
      "metadata": {
        "id": "OG5sgl_7jcPJ"
      }
    },
    {
      "cell_type": "markdown",
      "source": [
        "데이터준비"
      ],
      "metadata": {
        "id": "TV3i624EAIHO"
      }
    },
    {
      "cell_type": "code",
      "source": [
        "import re\n",
        "import numpy as np\n",
        "\n",
        "#training_data 경로의 모든 파일 읽어오기 (json)\n",
        "training_files = []\n",
        "for root, dirs, files in os.walk(training_data_path):\n",
        "  for fn in files:\n",
        "    training_files.append(root+'/'+fn)\n",
        "\n",
        "\n",
        "#각 json 파일의 본문을 리스트에 추가\n",
        "train_data_title = []#np.array([])\n",
        "train_data = []#np.array([])\n",
        "train_labels = []\n",
        "\n",
        "for i in training_files:\n",
        "  with open(i,'r',encoding='utf-8') as file:\n",
        "    data = json.load(file)\n",
        "\n",
        "    #제목\n",
        "    newsTitle = data.get('sourceDataInfo').get('newsTitle')\n",
        "    newsTitle = re.sub('[()]',' ',newsTitle)\n",
        "    newsTitle = re.sub(r'\\\\',' ',newsTitle)\n",
        "    train_data_title.append(newsTitle) #train_data_title = np.append(newsTitle, train_data_title)\n",
        "    #본문\n",
        "    newsContent = data.get('sourceDataInfo').get('newsContent')\n",
        "    #newsContent = re.sub(r'\\n',' ', newsContent) # 엔터키를 없애버리면 sentencepiece 패키지가 멍청해서 인식을 못함\n",
        "    newsContent = re.sub('[()]',' ',newsContent)\n",
        "    newsContent = re.sub(r'\\\\',' ',newsContent)\n",
        "    train_data.append(newsContent) #train_data = np.append(newsContent,train_data)\n",
        "    #라벨\n",
        "    train_labels.append(int(data.get('sourceDataInfo').get('processPattern')))\n",
        "\n",
        "#-------------------------------------------------------------------------\n",
        "#위에랑 똑같은거 test에도\n",
        "test_files = []\n",
        "for root,dirs,files in os.walk(test_data_path):\n",
        "  for fn in files:\n",
        "    test_files.append(root+'/'+fn)\n",
        "\n",
        "test_data = []#np.array([])\n",
        "test_data_title = []#np.array([])\n",
        "test_labels = []\n",
        "\n",
        "for i in test_files:\n",
        "  with open(i,'r',encoding = 'utf-8') as file:\n",
        "    data = json.load(file)\n",
        "\n",
        "    #제목\n",
        "    newsTitle = data.get('sourceDataInfo').get('newsTitle')\n",
        "    newsTitle = re.sub('[()]',' ',newsTitle)\n",
        "    newsTitle = re.sub(r'\\\\',' ',newsTitle)\n",
        "    test_data_title.append(newsTitle) #test_data_title = np.append(newsTitle, test_data_title)\n",
        "\n",
        "    newsContent = data.get('sourceDataInfo').get('newsContent')\n",
        "    newsContent = re.sub('[()]',' ',newsContent)\n",
        "    newsContent = re.sub(r'\\\\',' ',newsContent)\n",
        "    test_data.append(newsContent) #test_data = np.append(newsContent,test_data)\n",
        "\n",
        "    test_labels.append(int(data.get('sourceDataInfo').get('processPattern')))"
      ],
      "metadata": {
        "id": "vHDKQUMtkcZ6"
      },
      "execution_count": 11,
      "outputs": []
    },
    {
      "cell_type": "markdown",
      "source": [
        "본문 - 토큰화"
      ],
      "metadata": {
        "id": "G62H-jtO-E3X"
      }
    },
    {
      "cell_type": "code",
      "source": [
        "#한국어 토큰화 위한 과정\n",
        "#https://velog.io/@lighthouse97/%ED%85%8D%EC%8A%A4%ED%8A%B8-%EC%A0%84%EC%B2%98%EB%A6%AC-%ED%86%A0%ED%81%B0%ED%99%94\n",
        "\n",
        "#토큰화 - 1 형태소 분석\n",
        "from konlpy.tag import Okt\n",
        "\n",
        "okt = Okt()\n",
        "text = '아이고 배고파 ㅠㅠ 이럴수가. 컵라면을 사먹어요'\n",
        "\n",
        "morphs = okt.morphs(text)\n",
        "ps = okt.pos(text)\n",
        "noun = okt.nouns(text)\n",
        "print(f\"형태소 분석 : {morphs}\")\n",
        "print(f'품사 태깅 : {ps}')\n",
        "print(f'명사 추출 : {noun}')"
      ],
      "metadata": {
        "id": "c7e1Hb5rr2kb",
        "colab": {
          "base_uri": "https://localhost:8080/"
        },
        "outputId": "d9c015e6-29e2-4a8a-9451-8f8b8bf2327b"
      },
      "execution_count": 12,
      "outputs": [
        {
          "output_type": "stream",
          "name": "stdout",
          "text": [
            "형태소 분석 : ['아이고', '배고파', 'ㅠㅠ', '이럴수가', '.', '컵라면', '을', '사먹어요']\n",
            "품사 태깅 : [('아이고', 'Exclamation'), ('배고파', 'Adjective'), ('ㅠㅠ', 'KoreanParticle'), ('이럴수가', 'Adjective'), ('.', 'Punctuation'), ('컵라면', 'Noun'), ('을', 'Josa'), ('사먹어요', 'Verb')]\n",
            "명사 추출 : ['컵라면']\n"
          ]
        }
      ]
    },
    {
      "cell_type": "markdown",
      "source": [
        "**메모리 조정 코너**"
      ],
      "metadata": {
        "id": "X4FbK1uh7StV"
      }
    },
    {
      "cell_type": "code",
      "source": [
        "#vocab_size (30000개 : 메모리 넘침)\n",
        "vocab_size = 10000"
      ],
      "metadata": {
        "id": "bLhNq8yU7Ql9"
      },
      "execution_count": 13,
      "outputs": []
    },
    {
      "cell_type": "code",
      "source": [
        "#토큰화 - 2 Subword Tokenizer\n",
        "#BPE 알고리즘을 구현한 구글의 Sentencepiece를 사용해 내부 단어 분리 진행\n",
        "\n",
        "#이름.model 이 sentencepiece에서 사용되는 단어집합\n",
        "#이름.vocal 이 단어 집합을 텍스트 파일로 저장한것\n",
        "#모든 텍스트파일을 하나의 txt에 쳐넣고 학습해 model을 만들고 각각의 train_data 안에 있는 데이터에 sp.encode를 해주면 된다.\n",
        "\n",
        "import sentencepiece as spm\n",
        "\n",
        "#모든 텍스트 하나의 txt에 쳐넣어 sentencepiece 학습시키기\n",
        "with open('/content/test1.txt','w',encoding='utf-8') as f:\n",
        "  for i in range(0,len(train_data)):\n",
        "    f.write(train_data[i])\n",
        "  for i in range(0,len(test_data)):\n",
        "    f.write(test_data[i])\n",
        "  f.close()\n",
        "\n",
        "spm.SentencePieceTrainer.Train(f'--input=test1.txt --model_prefix=mine --vocab_size={vocab_size} --model_type=bpe --max_sentence_length=9999')\n",
        "\n",
        "#Sentence piece 객체 생성\n",
        "sp = spm.SentencePieceProcessor()\n",
        "\n"
      ],
      "metadata": {
        "id": "d7RG29bQn0IN"
      },
      "execution_count": 14,
      "outputs": []
    },
    {
      "cell_type": "code",
      "source": [],
      "metadata": {
        "id": "K7Z3Mta-P6XT"
      },
      "execution_count": 14,
      "outputs": []
    },
    {
      "cell_type": "code",
      "source": [
        "#모델 불러와 인코딩, 디코딩 시험\n",
        "sp.load('mine.model')\n",
        "print(sp.encode(train_data[0], out_type=int))\n",
        "#print(sp.DecodeIds([13702, 353, 7004, 394, 497, 930, 18833, 2368, 364, 2985, 1484, 1977, 19050, 1742, 167, 3834, 5689, 18747, 1587, 105, 18992, 19310, 19131, 18907, 1880]))\n"
      ],
      "metadata": {
        "id": "6j5loIVTt9CA",
        "colab": {
          "base_uri": "https://localhost:8080/"
        },
        "outputId": "2b1954b3-602c-405a-fe41-ac3364f53e66"
      },
      "execution_count": 15,
      "outputs": [
        {
          "output_type": "stream",
          "name": "stdout",
          "text": [
            "[1574, 8693, 458, 1805, 6260, 1044, 8612, 3087, 1418, 1805, 3645, 8612, 5501, 97, 8617, 1181, 1269, 1686, 2838, 8612, 3418, 68, 8610, 241, 8689, 1730, 6, 9028, 1964, 1093, 6072, 4710, 2187, 27, 8695, 8862, 9386, 8657, 1805, 483, 527, 146, 515, 8615, 1805, 6260, 9605, 97, 8617, 1301, 2164, 8610, 739, 708, 423, 689, 8609, 8610, 82, 9082, 2600, 97, 8617, 8636, 160, 27, 8849, 8840, 8875, 1261, 27, 8634, 8634, 8657, 8617, 395, 33, 869, 8644, 8700, 2522, 128, 2644, 19, 1805, 8980, 4020, 3645, 8612, 5683, 892, 8630, 611, 469, 8623, 4710, 8868, 70, 9028, 95, 9654, 8650, 1587, 1093, 6072, 8545, 1805, 1226, 8665, 3347, 2597, 3328, 235, 8998, 22, 8610, 2686, 4891, 257, 3375, 8770, 5778, 1204, 1044, 48, 8777, 8611, 739, 708, 1044, 3644, 86, 151, 870, 8610, 2573, 12, 527, 2701, 86, 818, 2409, 8613, 4383, 1181, 1839, 698, 68, 8610, 27, 8654, 8642, 1261, 27, 8614, 8695, 8868, 1261, 27, 9590, 8956, 1726, 1261, 27, 8615, 8617, 8805, 8642, 1261, 27, 8614, 1657, 8657, 626, 395, 68, 8610, 241, 8689, 112, 9028, 27, 8702, 8835, 4412, 8657, 8611, 1805, 527, 2701, 2027, 8693, 3109, 506, 3043, 8610, 1805, 483, 8608, 37, 1181, 2409, 537, 8623, 402, 9482, 8649, 8607, 9514, 9127, 8721, 9274, 8608, 8847, 8623, 8607, 9514, 9127, 8717, 8850, 8623, 1805, 8419, 3259, 8623, 59, 9141, 8621, 8623, 4235, 9861, 381, 8722, 8623, 194, 9163, 8608, 758, 8766, 86, 282, 157, 611, 8998, 22, 8610, 739, 8647, 9014, 2070, 8647, 5686, 8739, 1095, 8734, 3632, 4524, 34, 8641, 8607, 9364, 8931, 7329, 1964, 8623, 739, 8647, 5948, 160, 827, 2268, 8625, 8882, 13, 8622, 8766, 2955, 5859, 8634, 3277, 15, 22, 8610]\n"
          ]
        }
      ]
    },
    {
      "cell_type": "code",
      "source": [
        "#train_data, test_data 전부 Tokenize\n",
        "token_train_data = []\n",
        "for i in range(0,len(train_data)):\n",
        "  token_train_data.append(sp.encode(train_data[i], out_type = int))\n",
        "token_test_data = []\n",
        "for i in range(0,len(test_data))  :\n",
        "  token_test_data.append(sp.encode(test_data[i],out_type=int))\n",
        "\n",
        "#train_data_title, test_data_title 전부 Tokenize\n",
        "token_train_data_title = []\n",
        "for i in range(0,len(train_data_title)):\n",
        "  token_train_data_title.append(sp.encode(train_data_title[i], out_type=int))\n",
        "token_test_data_title = []\n",
        "for i in range(0,len(test_data_title)):\n",
        "  token_test_data_title.append(sp.encode(test_data_title[i], out_type=int))"
      ],
      "metadata": {
        "id": "I6rnpfXCwtqN"
      },
      "execution_count": 16,
      "outputs": []
    },
    {
      "cell_type": "markdown",
      "source": [
        "본문 - 벡터변환 (원-핫 인코딩)"
      ],
      "metadata": {
        "id": "1s1tjGR0wWgk"
      }
    },
    {
      "cell_type": "code",
      "source": [
        "#데이터 벡터변환 (원-핫 인코딩 방식 벡터변환으로 각 기사에 어떤 단어가 사용되었는지에 대한 정보를 담고 있다.)\n",
        "import numpy as np\n",
        "\n",
        "#행 : 각 기사들, 열 : 단어 시퀀스, 값 : 기사의 해당 단어 사용 여부\n",
        "def vectorize_squences(sequences, dimension=vocab_size): #dimension은 sentencepiece의 vocab_size 와 같게\n",
        "  results = np.zeros((len(sequences),dimension))\n",
        "  print(results.shape)\n",
        "\n",
        "  #i번째 원소의 기사 sequence를 np.zero 각각의 줄에 그냥 다 넣기\n",
        "  for i, sequence in enumerate(sequences):\n",
        "    results[i,sequence] = 1\n",
        "  return results\n",
        "\n",
        "x_train = vectorize_squences(token_train_data)\n",
        "x_test = vectorize_squences(token_test_data)\n",
        "x_train_title = vectorize_squences(token_train_data_title)\n",
        "x_test_title = vectorize_squences(token_test_data_title)"
      ],
      "metadata": {
        "id": "I9qHHVuWwRzc",
        "colab": {
          "base_uri": "https://localhost:8080/"
        },
        "outputId": "4485d570-8a46-4193-bce4-dd47347bbf6c"
      },
      "execution_count": 17,
      "outputs": [
        {
          "output_type": "stream",
          "name": "stdout",
          "text": [
            "(22229, 10000)\n",
            "(2776, 10000)\n",
            "(22229, 10000)\n",
            "(2776, 10000)\n"
          ]
        }
      ]
    },
    {
      "cell_type": "markdown",
      "source": [
        "라벨->벡터변환(원 핫 인코딩)\n",
        "\n",
        "\n",
        "1.   train_labels\n",
        "[3,4,3,6,1,2,6,3,7,3....]\n",
        "2.   one_hot_train_labels\n",
        "[0,0,0,0,1,0,0,0],[0,0,0,0,0,0,0,1],[1,0,0,0,0,0,0,0]\n"
      ],
      "metadata": {
        "id": "ngGMmXlt-L5Q"
      }
    },
    {
      "cell_type": "markdown",
      "source": [
        "라벨 값\n",
        "*   0-5은 processPattern 11-16\n",
        "*   6-9은 processPattern 21-24\n"
      ],
      "metadata": {
        "id": "_FTyeuK5CqDW"
      }
    },
    {
      "cell_type": "code",
      "source": [
        "#라벨 원-핫 인코딩 벡터변환\n",
        "def to_one_hot(labels, dimension=10):\n",
        "  results = np.zeros((len(labels),dimension))\n",
        "  for i, label in enumerate(labels):\n",
        "    if label <= 16:\n",
        "      results[i,label-11] = 1\n",
        "    elif label >=21:\n",
        "      results[i,label-15] = 1\n",
        "    else:\n",
        "      pass\n",
        "  return results\n",
        "\n",
        "one_hot_train_labels = to_one_hot(train_labels)\n",
        "one_hot_test_labels = to_one_hot(test_labels)"
      ],
      "metadata": {
        "id": "oYLqcSnF_Tcj"
      },
      "execution_count": 18,
      "outputs": []
    },
    {
      "cell_type": "code",
      "source": [
        "print(one_hot_train_labels)\n",
        "print(one_hot_test_labels)"
      ],
      "metadata": {
        "id": "j1na8biRDXgz",
        "colab": {
          "base_uri": "https://localhost:8080/"
        },
        "outputId": "90a0a635-fbf0-461b-9b1d-541cd1e20a98"
      },
      "execution_count": 19,
      "outputs": [
        {
          "output_type": "stream",
          "name": "stdout",
          "text": [
            "[[0. 0. 0. ... 0. 1. 0.]\n",
            " [0. 0. 0. ... 0. 0. 0.]\n",
            " [0. 0. 0. ... 0. 1. 0.]\n",
            " ...\n",
            " [0. 0. 0. ... 0. 0. 1.]\n",
            " [0. 0. 0. ... 0. 0. 1.]\n",
            " [0. 0. 1. ... 0. 0. 0.]]\n",
            "[[1. 0. 0. ... 0. 0. 0.]\n",
            " [0. 0. 0. ... 1. 0. 0.]\n",
            " [0. 0. 1. ... 0. 0. 0.]\n",
            " ...\n",
            " [0. 1. 0. ... 0. 0. 0.]\n",
            " [0. 0. 0. ... 1. 0. 0.]\n",
            " [0. 0. 0. ... 0. 0. 1.]]\n"
          ]
        }
      ]
    },
    {
      "cell_type": "markdown",
      "source": [
        "## 3.모델 만들기\n",
        "\n",
        "\n",
        "입력 Layer 2개- 본문/제목\n",
        "은닉 Layer\n",
        "출력 Layer 10개\n"
      ],
      "metadata": {
        "id": "GWurdSxeBstI"
      }
    },
    {
      "cell_type": "code",
      "source": [
        "#데이터 train:validation\n",
        "num1 = len(x_train)//10*4\n",
        "num2 = len(x_train_title)//10*4\n",
        "num3 = len(one_hot_train_labels)//10*4\n",
        "\n",
        "#본문 x_val/partial_x_train\n",
        "x_val = x_train[:num1]\n",
        "partial_x_train = x_train[num1:]\n",
        "\n",
        "#제목 x_val_title/partial_x_train_title\n",
        "x_val_title = x_train_title[:num2]\n",
        "partial_x_train_title = x_train_title[num2:]\n",
        "\n",
        "#test y_val/partial_y_train\n",
        "y_val = one_hot_train_labels[:num3]\n",
        "partial_y_train = one_hot_train_labels[num3:]\n",
        "\n"
      ],
      "metadata": {
        "id": "KJcXbb-I__3k"
      },
      "execution_count": 20,
      "outputs": []
    },
    {
      "cell_type": "code",
      "source": [
        "print(num1, num2, num3)"
      ],
      "metadata": {
        "id": "daOFGWwGeRtQ",
        "colab": {
          "base_uri": "https://localhost:8080/"
        },
        "outputId": "a120bf5b-055a-47ae-9a14-f7dcfedd1040"
      },
      "execution_count": 21,
      "outputs": [
        {
          "output_type": "stream",
          "name": "stdout",
          "text": [
            "8888 8888 8888\n"
          ]
        }
      ]
    },
    {
      "cell_type": "markdown",
      "source": [
        "## 4. 모델 구성\n",
        "출력 클래스 개수 10개"
      ],
      "metadata": {
        "id": "M6G1C7L2CdCq"
      }
    },
    {
      "cell_type": "code",
      "source": [
        "#######################################################################다중입력 모델 만들어보기\n",
        "import keras\n",
        "import tensorflow\n",
        "from keras import models\n",
        "from keras import layers\n",
        "from keras.preprocessing.sequence import pad_sequences\n",
        "\n",
        "\n",
        "\n",
        "#본문, 타이틀 input\n",
        "title_input = keras.Input(shape=(vocab_size,), name = 'title') #shape=(5000,) 은 1차원 배열 5000개를 받는다는 뜻\n",
        "content_input = keras.Input(shape=(vocab_size,), name = 'content')\n",
        "\n",
        "x1 = layers.Dense(16, activation='relu')(title_input)\n",
        "x1 = layers.Dropout(0.1)(x1) #과적합 방지\n",
        "x1 = layers.Dense(16, activation='relu')(x1)\n",
        "\n",
        "x2 = layers.Dense(16, activation='relu')(content_input)\n",
        "x2 = layers.Dropout(0.1)(x2)\n",
        "x2 = layers.Dense(16, activation='relu')(x2)\n",
        "\n",
        "concatenated = keras.layers.concatenate([x1,x2])\n",
        "concatenated = layers.Dropout(0.1)(concatenated)\n",
        "\n",
        "output = layers.Dense(10, activation = 'softmax')(concatenated)\n",
        "\n",
        "model = models.Model(inputs = [title_input, content_input], outputs = output)\n",
        "\n",
        "model.compile(optimizer='rmsprop',\n",
        "              loss = 'categorical_crossentropy',\n",
        "              metrics=['accuracy'])"
      ],
      "metadata": {
        "id": "FGJoXo0ya7Qy"
      },
      "execution_count": 22,
      "outputs": []
    },
    {
      "cell_type": "markdown",
      "source": [
        "training accuracy 증가 & validation accuracy 감소 : 과대적합\n",
        "training data라는 악기에만 적응하고 validation이라는 새로운 악기는 연주하지 못하게 되는 현상\n",
        "\n",
        "\n",
        "1.   batch size 증가시켜 좁은 범위의 데이터에 집중하지 않도록 유도\n",
        "2.   신경망 뉴런 개수 조절 : 뉴런 개수 줄여 과한 많은 학습을 하지 않도록 조절\n",
        "3. 데이터 더 크게 : 학습할 데이터 수를 늘려 학습 데이터에만 적응하는 경우가 없도록 함\n",
        "4. Dropout Layer : 특정 데이터에 의도적으로 학습을 중단해 골고루 학습할 수 있도록 함\n",
        "\n",
        "\n"
      ],
      "metadata": {
        "id": "2-N6nfayseRx"
      }
    },
    {
      "cell_type": "code",
      "source": [
        "history = model.fit([partial_x_train_title, partial_x_train],\n",
        "                    partial_y_train, #모델이 예측해야 하는 타켓 클래스로, 마지막 Dense Layer의 출력층과 연결되어 있음\n",
        "                    epochs=10,\n",
        "                    batch_size=200,\n",
        "                    validation_data=([x_val_title,x_val], y_val) )\n"
      ],
      "metadata": {
        "colab": {
          "base_uri": "https://localhost:8080/"
        },
        "id": "rN9_1l51Dncp",
        "outputId": "f8060894-ba6b-4532-8f09-f6135922ce03"
      },
      "execution_count": 23,
      "outputs": [
        {
          "output_type": "stream",
          "name": "stdout",
          "text": [
            "Epoch 1/10\n",
            "67/67 [==============================] - 12s 71ms/step - loss: 2.1397 - accuracy: 0.2290 - val_loss: 2.0745 - val_accuracy: 0.2429\n",
            "Epoch 2/10\n",
            "67/67 [==============================] - 2s 23ms/step - loss: 1.9791 - accuracy: 0.2843 - val_loss: 2.0362 - val_accuracy: 0.2667\n",
            "Epoch 3/10\n",
            "67/67 [==============================] - 2s 28ms/step - loss: 1.8150 - accuracy: 0.3625 - val_loss: 2.0262 - val_accuracy: 0.2745\n",
            "Epoch 4/10\n",
            "67/67 [==============================] - 2s 25ms/step - loss: 1.6351 - accuracy: 0.4453 - val_loss: 2.0370 - val_accuracy: 0.2605\n",
            "Epoch 5/10\n",
            "67/67 [==============================] - 3s 39ms/step - loss: 1.4548 - accuracy: 0.5168 - val_loss: 2.0892 - val_accuracy: 0.2611\n",
            "Epoch 6/10\n",
            "67/67 [==============================] - 1s 18ms/step - loss: 1.2799 - accuracy: 0.5805 - val_loss: 2.1966 - val_accuracy: 0.2637\n",
            "Epoch 7/10\n",
            "67/67 [==============================] - 1s 17ms/step - loss: 1.1135 - accuracy: 0.6420 - val_loss: 2.3093 - val_accuracy: 0.2519\n",
            "Epoch 8/10\n",
            "67/67 [==============================] - 1s 21ms/step - loss: 0.9503 - accuracy: 0.6975 - val_loss: 2.4395 - val_accuracy: 0.2422\n",
            "Epoch 9/10\n",
            "67/67 [==============================] - 1s 22ms/step - loss: 0.8070 - accuracy: 0.7547 - val_loss: 2.6396 - val_accuracy: 0.2445\n",
            "Epoch 10/10\n",
            "67/67 [==============================] - 1s 21ms/step - loss: 0.6758 - accuracy: 0.8010 - val_loss: 2.8024 - val_accuracy: 0.2351\n"
          ]
        }
      ]
    },
    {
      "cell_type": "markdown",
      "source": [
        "모델 저장, 구조보기"
      ],
      "metadata": {
        "id": "RIML_iT2hIcq"
      }
    },
    {
      "cell_type": "code",
      "source": [
        "save_path = '/content/model'\n",
        "if not os.path.exists(save_path):\n",
        "  os.mkdir(save_path)\n",
        "else:\n",
        "  print('경로 있음')\n",
        "\n",
        "model_name = 'processPattern_classificaton_model_ver1'\n",
        "destination_path = os.path.join(save_path,model_name)\n",
        "\n",
        "model.save(destination_path)\n"
      ],
      "metadata": {
        "id": "x81QNaYghHoI"
      },
      "execution_count": null,
      "outputs": []
    },
    {
      "cell_type": "code",
      "source": [
        "import zipfile\n",
        "\n",
        "folder_path = '/content/model/processPattern_classificaton_model_ver1'\n",
        "zip_path = '/content/drive/MyDrive/ML_model_backup/processPattern_classificaton_model_ver1.zip'\n",
        "\n",
        "with zipfile.ZipFile(zip_path, 'w', zipfile.ZIP_DEFLATED) as zipf:\n",
        "  for root, dirs, files in os.walk(folder_path):\n",
        "    for file in files:\n",
        "      file_path = os.path.join(root, file)\n",
        "      arcname = os.path.relpath(file_path, folder_path)\n",
        "      zipf.write(file_path, arcname = arcname)"
      ],
      "metadata": {
        "id": "FRgD_iAYk9xk"
      },
      "execution_count": 33,
      "outputs": []
    },
    {
      "cell_type": "markdown",
      "source": [
        "모델 통계"
      ],
      "metadata": {
        "id": "1mWfVCJjoc2X"
      }
    },
    {
      "cell_type": "code",
      "source": [
        "model.summary()"
      ],
      "metadata": {
        "id": "ElEtB1Sjk85i"
      },
      "execution_count": null,
      "outputs": []
    },
    {
      "cell_type": "code",
      "source": [
        "tensorflow.keras.utils.plot_model(model)"
      ],
      "metadata": {
        "colab": {
          "base_uri": "https://localhost:8080/",
          "height": 661
        },
        "id": "bvBroqwIog3j",
        "outputId": "30bb3f1d-1bee-45a9-f69a-1cc192111fd7"
      },
      "execution_count": 35,
      "outputs": [
        {
          "output_type": "execute_result",
          "data": {
            "image/png": "[encoded data removed]",
            "text/plain": [
              "<IPython.core.display.Image object>"
            ]
          },
          "metadata": {},
          "execution_count": 35
        }
      ]
    },
    {
      "cell_type": "markdown",
      "source": [
        "성능 그래프"
      ],
      "metadata": {
        "id": "rIUXGpsthDvB"
      }
    },
    {
      "cell_type": "code",
      "source": [
        "import matplotlib.pyplot as plt\n",
        "\n",
        "plt.figure(figsize=(12, 4))\n",
        "plt.subplot(1, 2, 1)\n",
        "plt.plot(history.history['loss'], label='Training Loss')\n",
        "plt.plot(history.history['val_loss'], label='Validation Loss')\n",
        "plt.title('Training and Validation Loss')\n",
        "plt.xlabel('Epochs')\n",
        "plt.ylabel('Loss')\n",
        "plt.legend()\n",
        "\n",
        "# 훈련 및 검증 정확도 그래프\n",
        "plt.subplot(1, 2, 2)\n",
        "plt.plot(history.history['accuracy'], label='Training Accuracy')\n",
        "plt.plot(history.history['val_accuracy'], label='Validation Accuracy')\n",
        "plt.title('Training and Validation Accuracy')\n",
        "plt.xlabel('Epochs')\n",
        "plt.ylabel('Accuracy')\n",
        "plt.legend()\n",
        "\n",
        "plt.show()"
      ],
      "metadata": {
        "id": "lZmUlnz3dtko",
        "colab": {
          "base_uri": "https://localhost:8080/",
          "height": 311
        },
        "outputId": "a63302e8-b76b-4ac1-e381-92652b75cb4c"
      },
      "execution_count": 25,
      "outputs": [
        {
          "output_type": "display_data",
          "data": {
            "text/plain": [
              "<Figure size 1200x400 with 2 Axes>"
            ],
            "image/png": "[encoded data removed]"
          },
          "metadata": {}
        }
      ]
    },
    {
      "cell_type": "markdown",
      "source": [
        "Confusion Matrix 그리기"
      ],
      "metadata": {
        "id": "Z-4O6j_FI1A4"
      }
    },
    {
      "cell_type": "code",
      "source": [
        "from sklearn.metrics import confusion_matrix\n",
        "\n",
        "# 예측 실행\n",
        "y_pred = model.predict([x_val_title, x_val])\n",
        "\n",
        "#정답 값\n",
        "conf_y_true = []\n",
        "for i in y_val:\n",
        "  for index, value in enumerate(i):\n",
        "        if value == 1:\n",
        "            conf_y_true.append(index)\n",
        "\n",
        "#예측 값\n",
        "conf_y_pred = []\n",
        "for i in y_pred:\n",
        "  conf_y_pred.append(np.argmax(i))\n",
        "\n",
        "\n",
        "#->matrix\n",
        "#input -> x_val, x_val_title & y_val"
      ],
      "metadata": {
        "colab": {
          "base_uri": "https://localhost:8080/"
        },
        "id": "MT8LOXVoIzwV",
        "outputId": "2529851e-d8f4-4774-e2ea-e92c433c5772"
      },
      "execution_count": 26,
      "outputs": [
        {
          "output_type": "stream",
          "name": "stdout",
          "text": [
            "278/278 [==============================] - 1s 4ms/step\n"
          ]
        }
      ]
    },
    {
      "cell_type": "code",
      "source": [
        "# Confusion Matrix 생성\n",
        "cm = confusion_matrix(conf_y_true, conf_y_pred)\n",
        "\n",
        "# Confusion Matrix 출력\n",
        "print(cm)"
      ],
      "metadata": {
        "colab": {
          "base_uri": "https://localhost:8080/"
        },
        "id": "pcFKQr_pdz11",
        "outputId": "c16d6dc6-d866-4255-90b4-576f13c84d5f"
      },
      "execution_count": 27,
      "outputs": [
        {
          "output_type": "stream",
          "name": "stdout",
          "text": [
            "[[964 377  31  30  81   7  72  80 237 274]\n",
            " [436 290  29  24  44   4  38  36  90 112]\n",
            " [151  89   4   8  12   0  16  17  43  24]\n",
            " [184 112  11   8  25   2  24  17  63  58]\n",
            " [251  82   9  15  14   1  11  24  56  88]\n",
            " [110  53   6   3  10   0   8  13  24  43]\n",
            " [186  53   5   5  15   2  78 114 141 103]\n",
            " [187  43   8  11   9   1  88 122 143  58]\n",
            " [395 103  17  13  36   6 108 116 250 258]\n",
            " [419 108   7  10  31   7  76  61 190 360]]\n"
          ]
        }
      ]
    },
    {
      "cell_type": "code",
      "source": [
        "title = 'test'\n",
        "cmap = plt.cm.viridis\n",
        "plt.figure(figsize=(6, 6))\n",
        "plt.imshow(cm, interpolation='nearest', cmap=cmap)  # , cmap=plt.cm.Greens\n",
        "\n",
        "plt.title(title, size=12)\n",
        "plt.colorbar(fraction=0.05, pad=0.05)\n",
        "tick_marks = np.arange(3, 3)\n",
        "plt.xticks(np.arange(10), ('0', '1', '2','3','4','5','6','7','8','9'))\n",
        "plt.yticks(np.arange(10), ('0', '1', '2','3','4','5','6','7','8','9'))"
      ],
      "metadata": {
        "colab": {
          "base_uri": "https://localhost:8080/",
          "height": 873
        },
        "id": "n7-EkqDvh125",
        "outputId": "4ca398db-d535-49d5-bad3-9a88c0c61c23"
      },
      "execution_count": 28,
      "outputs": [
        {
          "output_type": "execute_result",
          "data": {
            "text/plain": [
              "([<matplotlib.axis.YTick at 0x7d6e8b4da290>,\n",
              "  <matplotlib.axis.YTick at 0x7d6cd36f2440>,\n",
              "  <matplotlib.axis.YTick at 0x7d6c40142ce0>,\n",
              "  <matplotlib.axis.YTick at 0x7d6c43f087c0>,\n",
              "  <matplotlib.axis.YTick at 0x7d6c43f09270>,\n",
              "  <matplotlib.axis.YTick at 0x7d6c43f09d20>,\n",
              "  <matplotlib.axis.YTick at 0x7d6c43f0a7d0>,\n",
              "  <matplotlib.axis.YTick at 0x7d6c43f09480>,\n",
              "  <matplotlib.axis.YTick at 0x7d6c43f0b040>,\n",
              "  <matplotlib.axis.YTick at 0x7d6c43f0baf0>],\n",
              " [Text(0, 0, '0'),\n",
              "  Text(0, 1, '1'),\n",
              "  Text(0, 2, '2'),\n",
              "  Text(0, 3, '3'),\n",
              "  Text(0, 4, '4'),\n",
              "  Text(0, 5, '5'),\n",
              "  Text(0, 6, '6'),\n",
              "  Text(0, 7, '7'),\n",
              "  Text(0, 8, '8'),\n",
              "  Text(0, 9, '9')])"
            ]
          },
          "metadata": {},
          "execution_count": 28
        },
        {
          "output_type": "display_data",
          "data": {
            "text/plain": [
              "<Figure size 600x600 with 2 Axes>"
            ],
            "image/png": "[encoded data removed]"
          },
          "metadata": {}
        }
      ]
    },
    {
      "cell_type": "markdown",
      "source": [
        "## 모델 시연"
      ],
      "metadata": {
        "id": "2T5HDabeZA7S"
      }
    },
    {
      "cell_type": "markdown",
      "source": [
        "새로운 데이터로 테스트해보기\n",
        "본문->토큰화->벡터화->모델 분석 ->argmax 함수"
      ],
      "metadata": {
        "id": "y1O50FtdF-uE"
      }
    },
    {
      "cell_type": "code",
      "source": [
        "title = '''[종합]'애벌레 사기' 김종민, '500억 자산설→현실은 전세'…그래도 '한강뷰'''\n",
        "\n",
        "text = '''[스포츠조선 이정혁 기자]'500억 자산설' 김종민이 '애벌레 사기'로 전재산을 날린 뒤 전세로 마련한 집에서 촬영을 했다.\n",
        "\n",
        "\n",
        "지난 9일 방송된 MBC '놀면 뭐하니?'에서는 음악방송을 앞둔 JS 엔터테인먼트 '원탑' 멤버들이 김종민의 기획사, '신바 엔터테인먼트'를 찾은 모습을 소개했다.\n",
        "\n",
        "김종민은 1인 기획사 '신바 엔터테인먼트'의 유일한 소속 가수이자 대표다. JS 엔터테인먼트 멤버들이 방문한 '신바 엔터테인먼트' 사옥은 다름 아닌 김종민의 실제 집이었다.\n",
        "\n",
        "JYP 구내식당에서 밥을 먹었던 것에 이어 멤버들은 신바 엔터테인먼트에서도 밥을 먹었고, 김종민은 '신지 어머니표 김치'로 대접을 했다.\n",
        "\n",
        "\"신지 어머니께서 직접 주셨다\"고 밝힌 김종민은 \"사실 우리 엄마도 했는데 망쳤다고 안 주셨다. 근데 신지 어머니께서 성공을 하셨다\"고 설명했다.\n",
        "\n",
        "이어 한강뷰 김종민의 집을 구경하던 하하는 \"벽에 그림이나 스티커 같은 게 안 붙어있으니까 되게 신기하다\"며 두리번거렸다. 이에 유재석은 \"하하도 그렇고 저도 그렇고 아이들이 벽에 스티커를 많이 붙인다\"며 \"집이 너무 좋다\"며 감탄사를 연발했다.\n",
        "\n",
        "한편 지난 10월 방송된 SBS '미운 우리 새끼'에서는 김종민은 집에서 생일파티를 하면서 \"이걸 왜 우리 집에서 하냐. 여기 자가도 아닌 전세\"라고 불평했다.\n",
        "\n",
        "이에 최진혁이 \"왜 전세냐. 재산 500억원이 있다는 이야기는 뭐냐\"고 묻자, 김종민은 \"그건 다 루머\"라며 \"과거 사기를 많이 당했다. 미래에 대한 불안감 때문에 그런 일이 생겼던 것 같다\"며 입을 열었다.\n",
        "\n",
        "\"미군 부대에 술을 납품하는 사업이 있다더라. 애벌레가 들어간 테킬라가 있는데 같이 납품하는 사업을 해보자고 제안한 사람이 있었다. 돈이 딱 몇천이 모자라다고 해 투자했다. 그게 내 전 재산이었다\"고 사기 당했던 일을 떠올린 김종민은 \"분명히 돈을 벌 수 있다고 해서 믿고 투자했다. 그런데 갑자기 연락이 끊겼고 그렇게 전 재산을 날렸다\"고 했다.\n",
        "\n",
        "이어 결국 그 돈을 받는데 실패했다고 밝혀, 안쓰러움을 더했다.'''\n",
        "\n",
        "\n",
        "#토큰화->패딩->벡터화->입력\n",
        "token_title = sp.encode(title,out_type= int)\n",
        "token_text = sp.encode(text,out_type=int)\n",
        "\n",
        "\n",
        "padded_title = pad_sequences([token_title], maxlen=500) #pad_sequences 는 리스트를 받기 때문에 []해줌\n",
        "padded_text = pad_sequences([token_text], maxlen=500)\n",
        "\n",
        "vec_title = vectorize_squences(padded_title)\n",
        "vec_text = vectorize_squences(padded_text)\n",
        "\n",
        "pred1 = model.predict([vec_title,vec_text])\n",
        "\n",
        "np.argmax(pred1[0])"
      ],
      "metadata": {
        "id": "6bvo6NiLE-gu",
        "colab": {
          "base_uri": "https://localhost:8080/"
        },
        "outputId": "538c9c82-c745-4b54-e5c0-b0100c9f1777"
      },
      "execution_count": 29,
      "outputs": [
        {
          "output_type": "stream",
          "name": "stdout",
          "text": [
            "(1, 10000)\n",
            "(1, 10000)\n",
            "1/1 [==============================] - 0s 31ms/step\n"
          ]
        },
        {
          "output_type": "execute_result",
          "data": {
            "text/plain": [
              "9"
            ]
          },
          "metadata": {},
          "execution_count": 29
        }
      ]
    },
    {
      "cell_type": "markdown",
      "source": [
        "from keras import models\n",
        "from keras import layers\n",
        "\n",
        "#Sequential 모델 정의\n",
        "model = models.Sequential()\n",
        "#입력층 - 64개의 뉴런, relu 활성화 함수, 10000개의 입력데이터\n",
        "model.add(layers.Dense(64, activation='relu',input_shape=(5000,)))\n",
        "#은닉층\n",
        "model.add(layers.Dense(64, activation='relu'))\n",
        "#출력층\n",
        "model.add(layers.Dense(10, activation='softmax'))\n",
        "\n",
        "\n",
        "model.compile(optimizer='rmsprop',\n",
        "              loss='categorical_crossentropy',\n",
        "              metrics=['accuracy'])"
      ],
      "metadata": {
        "id": "NSfWR-8Ve-6s"
      }
    }
  ]
}