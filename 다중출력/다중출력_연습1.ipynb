{
  "nbformat": 4,
  "nbformat_minor": 0,
  "metadata": {
    "colab": {
      "provenance": [],
      "authorship_tag": "ABX9TyO5DUEemL0JD7TdrmNKXK+k",
      "include_colab_link": true
    },
    "kernelspec": {
      "name": "python3",
      "display_name": "Python 3"
    },
    "language_info": {
      "name": "python"
    }
  },
  "cells": [
    {
      "cell_type": "markdown",
      "metadata": {
        "id": "view-in-github",
        "colab_type": "text"
      },
      "source": [
        "<a href=\"https://colab.research.google.com/github/leejunho12316/Machine-Learning/blob/main/%EB%8B%A4%EC%A4%91%EC%B6%9C%EB%A0%A5/%EB%8B%A4%EC%A4%91%EC%B6%9C%EB%A0%A5_%EC%97%B0%EC%8A%B51.ipynb\" target=\"_parent\"><img src=\"https://colab.research.google.com/assets/colab-badge.svg\" alt=\"Open In Colab\"/></a>"
      ]
    },
    {
      "cell_type": "markdown",
      "source": [
        "https://tensorflow.blog/%EC%BC%80%EB%9D%BC%EC%8A%A4-%EB%94%A5%EB%9F%AC%EB%8B%9D/3-5-%EB%89%B4%EC%8A%A4-%EA%B8%B0%EC%82%AC-%EB%B6%84%EB%A5%98-%EB%8B%A4%EC%A4%91-%EB%B6%84%EB%A5%98-%EB%AC%B8%EC%A0%9C/\n",
        "## **단일 레이블 다중 분류 - 각 데이터포인트가 여러개의 범주에 속할 수 있음**\n",
        "다중 레이블 다중 분류 - 각 데이터포인트가 여러개의 범주에 속할 수 있음\n",
        "ctrl m h"
      ],
      "metadata": {
        "id": "CizJ_M5aKgjp"
      }
    },
    {
      "cell_type": "markdown",
      "source": [
        "## **1. 데이터 준비**\n",
        "keras 에서 reuter 기사 데이터 가져오기. 데이터는 이미 토큰화->시퀀스변환 과정을 마친 상태로 불러와진다"
      ],
      "metadata": {
        "id": "ALOEF6ZfHO-L"
      }
    },
    {
      "cell_type": "code",
      "execution_count": null,
      "metadata": {
        "id": "i0p4iMFyGIp_",
        "colab": {
          "base_uri": "https://localhost:8080/"
        },
        "outputId": "ec5041da-0a17-4c25-98ba-ee721b7ed67b"
      },
      "outputs": [
        {
          "output_type": "stream",
          "name": "stdout",
          "text": [
            "Downloading data from https://storage.googleapis.com/tensorflow/tf-keras-datasets/reuters.npz\n",
            "2110848/2110848 [==============================] - 0s 0us/step\n"
          ]
        }
      ],
      "source": [
        "from keras.datasets import reuters\n",
        "\n",
        "(train_data, train_labels), (test_data, test_labels) = reuters.load_data(num_words=10000) #num_words : 데이터에서 자주 등장하는 단어 상위 10000개로 개수 제한"
      ]
    },
    {
      "cell_type": "code",
      "source": [
        "train_labels"
      ],
      "metadata": {
        "colab": {
          "base_uri": "https://localhost:8080/"
        },
        "id": "bul5HHs9hWRp",
        "outputId": "f8463a47-c0a8-4495-fd8c-6279cb579013"
      },
      "execution_count": null,
      "outputs": [
        {
          "output_type": "execute_result",
          "data": {
            "text/plain": [
              "array([ 3,  4,  3, ..., 25,  3, 25])"
            ]
          },
          "metadata": {},
          "execution_count": 12
        }
      ]
    },
    {
      "cell_type": "markdown",
      "source": [
        "각 범주별로 몇 개의 데이터가 있는지"
      ],
      "metadata": {
        "id": "voGDLSQENZ-I"
      }
    },
    {
      "cell_type": "code",
      "source": [
        "total_labels = {}\n",
        "for i in train_labels:\n",
        "  total_labels[i] = total_labels.get(i,0)+1\n",
        "\n",
        "sorted_dict = {key:total_labels[key] for key in sorted(total_labels)}\n",
        "print(sorted_dict)"
      ],
      "metadata": {
        "id": "r93gtsgRLbcf",
        "colab": {
          "base_uri": "https://localhost:8080/"
        },
        "outputId": "fad20e90-4015-4230-a0a5-db37c2534486"
      },
      "execution_count": null,
      "outputs": [
        {
          "output_type": "stream",
          "name": "stdout",
          "text": [
            "{0: 55, 1: 432, 2: 74, 3: 3159, 4: 1949, 5: 17, 6: 48, 7: 16, 8: 139, 9: 101, 10: 124, 11: 390, 12: 49, 13: 172, 14: 26, 15: 20, 16: 444, 17: 39, 18: 66, 19: 549, 20: 269, 21: 100, 22: 15, 23: 41, 24: 62, 25: 92, 26: 24, 27: 15, 28: 48, 29: 19, 30: 45, 31: 39, 32: 32, 33: 11, 34: 50, 35: 10, 36: 49, 37: 19, 38: 19, 39: 24, 40: 36, 41: 30, 42: 13, 43: 21, 44: 12, 45: 18}\n"
          ]
        }
      ]
    },
    {
      "cell_type": "markdown",
      "source": [
        "데이터 봐보기"
      ],
      "metadata": {
        "id": "fJEuFw2aRybU"
      }
    },
    {
      "cell_type": "code",
      "source": [
        "word_index = reuters.get_word_index()\n",
        "reverse_word_index = dict([(value,key) for (key,value) in word_index.items()])\n",
        "decoded_newswire = ' '.join([reverse_word_index.get(i-3,'?') for i in train_data[10]])\n",
        "decoded_newswire"
      ],
      "metadata": {
        "id": "pqmThXolGRRa",
        "colab": {
          "base_uri": "https://localhost:8080/",
          "height": 110
        },
        "outputId": "955dc375-8bf0-4e8b-ddf3-045672dbbd7d"
      },
      "execution_count": null,
      "outputs": [
        {
          "output_type": "stream",
          "name": "stdout",
          "text": [
            "Downloading data from https://storage.googleapis.com/tensorflow/tf-keras-datasets/reuters_word_index.json\n",
            "550378/550378 [==============================] - 0s 1us/step\n"
          ]
        },
        {
          "output_type": "execute_result",
          "data": {
            "text/plain": [
              "'? period ended december 31 shr profit 11 cts vs loss 24 cts net profit 224 271 vs loss 511 349 revs 7 258 688 vs 7 200 349 reuter 3'"
            ],
            "application/vnd.google.colaboratory.intrinsic+json": {
              "type": "string"
            }
          },
          "metadata": {},
          "execution_count": 5
        }
      ]
    },
    {
      "cell_type": "markdown",
      "source": [
        "### **데이터 준비**"
      ],
      "metadata": {
        "id": "jmomrTveHXnv"
      }
    },
    {
      "cell_type": "code",
      "source": [
        "#데이터 벡터변환 (원-핫 인코딩 방식 벡터변환으로 각 기사에 어떤 단어가 사용되었는지에 대한 정보를 담고 있다.)\n",
        "import numpy as np\n",
        "\n",
        "#행 : 각 기사들, 열 : 단어 시퀀스, 값 : 기사의 해당 단어 사용 여부\n",
        "def vectorize_squences(sequences, dimension=10000):\n",
        "  results = np.zeros((len(sequences),dimension))\n",
        "  print(results.shape)\n",
        "\n",
        "  #i번째 원소의 기사 sequence를 np.zero 각각의 줄에 그냥 다 넣기\n",
        "  for i, sequence in enumerate(sequences):\n",
        "    results[i,sequence] = 1\n",
        "  return results\n",
        "\n",
        "x_train = vectorize_squences(train_data)\n",
        "x_test = vectorize_squences(test_data)"
      ],
      "metadata": {
        "id": "L0m7LDb0HdB0",
        "colab": {
          "base_uri": "https://localhost:8080/"
        },
        "outputId": "9d568fb9-c655-4e31-c95e-b054c563bc71"
      },
      "execution_count": null,
      "outputs": [
        {
          "output_type": "stream",
          "name": "stdout",
          "text": [
            "(8982, 10000)\n",
            "(2246, 10000)\n"
          ]
        }
      ]
    },
    {
      "cell_type": "code",
      "source": [
        "for i,seq in enumerate(train_data):\n",
        "  print(i, seq)\n",
        "  print()"
      ],
      "metadata": {
        "id": "KqljV7ZO89AF"
      },
      "execution_count": null,
      "outputs": []
    },
    {
      "cell_type": "code",
      "source": [
        "#데이터 원-핫 인코딩 벡터변환 ()\n",
        "def to_one_hot(labels, dimension=46):\n",
        "  results = np.zeros((len(labels),dimension))\n",
        "  for i, label in enumerate(labels):\n",
        "    results[i,label] = 1\n",
        "  return results\n",
        "\n",
        "one_hot_train_labels = to_one_hot(train_labels)\n",
        "one_hot_test_labels = to_one_hot(test_labels)"
      ],
      "metadata": {
        "id": "T2-Udv0XI-aO"
      },
      "execution_count": null,
      "outputs": []
    },
    {
      "cell_type": "code",
      "source": [
        "one_hot_train_labels"
      ],
      "metadata": {
        "id": "yyqVPCT9_Jue",
        "outputId": "33a2746f-6711-473c-f31a-7ab3e07fefa0",
        "colab": {
          "base_uri": "https://localhost:8080/"
        }
      },
      "execution_count": null,
      "outputs": [
        {
          "output_type": "execute_result",
          "data": {
            "text/plain": [
              "array([[0., 0., 0., ..., 0., 0., 0.],\n",
              "       [0., 0., 0., ..., 0., 0., 0.],\n",
              "       [0., 0., 0., ..., 0., 0., 0.],\n",
              "       ...,\n",
              "       [0., 0., 0., ..., 0., 0., 0.],\n",
              "       [0., 0., 0., ..., 0., 0., 0.],\n",
              "       [0., 0., 0., ..., 0., 0., 0.]])"
            ]
          },
          "metadata": {},
          "execution_count": 13
        }
      ]
    },
    {
      "cell_type": "markdown",
      "source": [
        "데이터 나누기"
      ],
      "metadata": {
        "id": "NRAjIBPSye7i"
      }
    },
    {
      "cell_type": "code",
      "source": [
        "#시퀀스-벡터 한 데이터 1:9로 나누기\n",
        "x_val = x_train[:1000]\n",
        "partial_x_train = x_train[1000:]\n",
        "\n",
        "#label one_hot_encoding 한 데이터 1:9로 나누기\n",
        "y_val = one_hot_train_labels[:1000]\n",
        "partial_y_train = one_hot_train_labels[1000:]"
      ],
      "metadata": {
        "id": "gG3X7oJ8Iy2v"
      },
      "execution_count": null,
      "outputs": []
    },
    {
      "cell_type": "markdown",
      "source": [
        "## 모델 구성\n",
        "출력 클래스의 개수가 2개가 아니라 46개입니다"
      ],
      "metadata": {
        "id": "c3IE_GMBIRof"
      }
    },
    {
      "cell_type": "code",
      "source": [
        "from keras import models\n",
        "from keras import layers\n",
        "\n",
        "#Sequential 모델 정의\n",
        "model = models.Sequential()\n",
        "#입력층 - 64개의 뉴런, relu 활성화 함수, 10000개의 입력데이터\n",
        "model.add(layers.Dense(64, activation='relu',input_shape=(10000,)))\n",
        "#은닉층\n",
        "model.add(layers.Dense(64, activation='relu'))\n",
        "#출력층\n",
        "model.add(layers.Dense(46, activation='softmax'))\n",
        "\n",
        "\n",
        "model.compile(optimizer='rmsprop',\n",
        "              loss='categorical_crossentropy',\n",
        "              metrics=['accuracy'])"
      ],
      "metadata": {
        "id": "LqXVoIGvISiF"
      },
      "execution_count": null,
      "outputs": []
    },
    {
      "cell_type": "markdown",
      "source": [
        "훈련"
      ],
      "metadata": {
        "id": "ToupcgEMIyS4"
      }
    },
    {
      "cell_type": "code",
      "source": [
        "#keras Sequential model에 나눈 데이터 중 9쪽 데이터를 넣어 train하고 validation으로는 1쪽을 넣음\n",
        "history = model.fit(partial_x_train,\n",
        "                    partial_y_train,\n",
        "                    epochs=20,\n",
        "                    batch_size=512,\n",
        "                    validation_data=(x_val,y_val))"
      ],
      "metadata": {
        "id": "ZYXBRY7kJ13e",
        "colab": {
          "base_uri": "https://localhost:8080/"
        },
        "outputId": "82c48552-70d3-489c-cd27-9d3d64b1561f"
      },
      "execution_count": null,
      "outputs": [
        {
          "output_type": "stream",
          "name": "stdout",
          "text": [
            "Epoch 1/20\n",
            "16/16 [==============================] - 2s 64ms/step - loss: 2.7583 - accuracy: 0.5127 - val_loss: 1.8137 - val_accuracy: 0.6190\n",
            "Epoch 2/20\n",
            "16/16 [==============================] - 1s 43ms/step - loss: 1.5217 - accuracy: 0.6817 - val_loss: 1.3636 - val_accuracy: 0.6980\n",
            "Epoch 3/20\n",
            "16/16 [==============================] - 1s 41ms/step - loss: 1.1779 - accuracy: 0.7486 - val_loss: 1.1938 - val_accuracy: 0.7470\n",
            "Epoch 4/20\n",
            "16/16 [==============================] - 1s 72ms/step - loss: 0.9697 - accuracy: 0.7982 - val_loss: 1.1172 - val_accuracy: 0.7500\n",
            "Epoch 5/20\n",
            "16/16 [==============================] - 1s 69ms/step - loss: 0.8125 - accuracy: 0.8266 - val_loss: 1.0701 - val_accuracy: 0.7590\n",
            "Epoch 6/20\n",
            "16/16 [==============================] - 1s 71ms/step - loss: 0.6810 - accuracy: 0.8524 - val_loss: 0.9868 - val_accuracy: 0.7880\n",
            "Epoch 7/20\n",
            "16/16 [==============================] - 1s 47ms/step - loss: 0.5738 - accuracy: 0.8763 - val_loss: 0.9350 - val_accuracy: 0.7940\n",
            "Epoch 8/20\n",
            "16/16 [==============================] - 1s 43ms/step - loss: 0.4822 - accuracy: 0.8975 - val_loss: 0.9079 - val_accuracy: 0.8050\n",
            "Epoch 9/20\n",
            "16/16 [==============================] - 1s 42ms/step - loss: 0.4126 - accuracy: 0.9121 - val_loss: 0.9405 - val_accuracy: 0.7910\n",
            "Epoch 10/20\n",
            "16/16 [==============================] - 1s 40ms/step - loss: 0.3538 - accuracy: 0.9243 - val_loss: 0.9026 - val_accuracy: 0.8030\n",
            "Epoch 11/20\n",
            "16/16 [==============================] - 1s 42ms/step - loss: 0.3002 - accuracy: 0.9316 - val_loss: 0.9052 - val_accuracy: 0.8100\n",
            "Epoch 12/20\n",
            "16/16 [==============================] - 1s 41ms/step - loss: 0.2633 - accuracy: 0.9386 - val_loss: 0.8774 - val_accuracy: 0.8090\n",
            "Epoch 13/20\n",
            "16/16 [==============================] - 1s 43ms/step - loss: 0.2358 - accuracy: 0.9448 - val_loss: 0.8883 - val_accuracy: 0.8170\n",
            "Epoch 14/20\n",
            "16/16 [==============================] - 1s 42ms/step - loss: 0.2119 - accuracy: 0.9474 - val_loss: 0.8868 - val_accuracy: 0.8140\n",
            "Epoch 15/20\n",
            "16/16 [==============================] - 1s 40ms/step - loss: 0.1930 - accuracy: 0.9485 - val_loss: 0.9283 - val_accuracy: 0.8090\n",
            "Epoch 16/20\n",
            "16/16 [==============================] - 1s 40ms/step - loss: 0.1766 - accuracy: 0.9528 - val_loss: 0.9598 - val_accuracy: 0.7930\n",
            "Epoch 17/20\n",
            "16/16 [==============================] - 1s 42ms/step - loss: 0.1631 - accuracy: 0.9529 - val_loss: 0.9170 - val_accuracy: 0.8160\n",
            "Epoch 18/20\n",
            "16/16 [==============================] - 1s 40ms/step - loss: 0.1584 - accuracy: 0.9549 - val_loss: 0.9214 - val_accuracy: 0.8020\n",
            "Epoch 19/20\n",
            "16/16 [==============================] - 1s 41ms/step - loss: 0.1500 - accuracy: 0.9539 - val_loss: 0.9197 - val_accuracy: 0.8060\n",
            "Epoch 20/20\n",
            "16/16 [==============================] - 1s 41ms/step - loss: 0.1382 - accuracy: 0.9575 - val_loss: 0.9370 - val_accuracy: 0.8140\n"
          ]
        }
      ]
    },
    {
      "cell_type": "markdown",
      "source": [
        "새로운 데이터 예측"
      ],
      "metadata": {
        "id": "llAZ6cU0KD6I"
      }
    },
    {
      "cell_type": "code",
      "source": [
        "pred = model.predict(x_test)"
      ],
      "metadata": {
        "colab": {
          "base_uri": "https://localhost:8080/"
        },
        "id": "vIwl5T4ZKFVP",
        "outputId": "b859d438-d234-4097-8aa9-d6b50a30f4c0"
      },
      "execution_count": null,
      "outputs": [
        {
          "output_type": "stream",
          "name": "stdout",
          "text": [
            "71/71 [==============================] - 0s 3ms/step\n"
          ]
        }
      ]
    },
    {
      "cell_type": "code",
      "source": [
        "np.argmax(pred[0])"
      ],
      "metadata": {
        "colab": {
          "base_uri": "https://localhost:8080/"
        },
        "id": "BAgYYPwYKH8j",
        "outputId": "bd6e5144-5c35-488d-fc81-eccb3e553fc0"
      },
      "execution_count": null,
      "outputs": [
        {
          "output_type": "execute_result",
          "data": {
            "text/plain": [
              "3"
            ]
          },
          "metadata": {},
          "execution_count": 41
        }
      ]
    }
  ]
}