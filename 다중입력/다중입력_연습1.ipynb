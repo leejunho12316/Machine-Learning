{
  "nbformat": 4,
  "nbformat_minor": 0,
  "metadata": {
    "colab": {
      "provenance": [],
      "authorship_tag": "ABX9TyPSfwkM8k3QBIs06+2G0/eW",
      "include_colab_link": true
    },
    "kernelspec": {
      "name": "python3",
      "display_name": "Python 3"
    },
    "language_info": {
      "name": "python"
    }
  },
  "cells": [
    {
      "cell_type": "markdown",
      "metadata": {
        "id": "view-in-github",
        "colab_type": "text"
      },
      "source": [
        "<a href=\"https://colab.research.google.com/github/leejunho12316/Machine-Learning/blob/main/%EB%8B%A4%EC%A4%91%EC%9E%85%EB%A0%A5_%EC%97%B0%EC%8A%B51.ipynb\" target=\"_parent\"><img src=\"https://colab.research.google.com/assets/colab-badge.svg\" alt=\"Open In Colab\"/></a>"
      ]
    },
    {
      "cell_type": "code",
      "execution_count": 10,
      "metadata": {
        "id": "cVIrGSs_63iI"
      },
      "outputs": [],
      "source": [
        "import tensorflow as tf\n",
        "from keras.models import Model\n",
        "import keras\n",
        "#from keras import layers\n",
        "#from keras import Input"
      ]
    },
    {
      "cell_type": "code",
      "source": [
        "text_vocab_size = 10000\n",
        "question_vocab_size = 10000\n",
        "ans_vocab_size = 500"
      ],
      "metadata": {
        "id": "BOZ19UMK7Vtv"
      },
      "execution_count": 3,
      "outputs": []
    },
    {
      "cell_type": "markdown",
      "source": [
        "모델 API 구현하기"
      ],
      "metadata": {
        "id": "9Y9p9N4D8CYF"
      }
    },
    {
      "cell_type": "code",
      "source": [
        "#입력 1, 2\n",
        "text_input = keras.Input(shape=(None,), dtype='int32', name='text' )\n",
        "question_input = keras.Input(shape=(None,), dtype='int32', name='question')\n",
        "\n",
        "#text_input -> 임베딩 -> Vector\n",
        "embedded_text = keras.layers.Embedding(text_vocab_size, 64)(text_input)\n",
        "#Vector -> LSTM -> 인코딩\n",
        "encoded_text = keras.layers.LSTM(32)(embedded_text)\n",
        "\n",
        "embedded_question = keras.layers.Embedding(text_vocab_size, 32)(question_input)\n",
        "encoded_question = keras.layers.LSTM(16)(embedded_question)\n",
        "\n",
        "#Vector 끼리 연결\n",
        "concatenated = keras.layers.concatenate([encoded_text, encoded_question])\n",
        "\n",
        "#연결된 Vector Dense 레이어에 통과시켜 ans_vocab_size 크기의 답변 출\n",
        "answer = keras.layers.Dense(ans_vocab_size, activation='softmax')(concatenated)\n",
        "\n",
        "model1 = Model([text_input, question_input], answer)\n",
        "model1.compile(optimizer='rmsprop', loss='categorical_crossentropy', metrics=['acc'])"
      ],
      "metadata": {
        "id": "_n1pCePO7AMv"
      },
      "execution_count": 62,
      "outputs": []
    },
    {
      "cell_type": "markdown",
      "source": [
        "모델에 데이터 주입하기"
      ],
      "metadata": {
        "id": "EFpqRoKY8Ejm"
      }
    },
    {
      "cell_type": "code",
      "source": [
        "import numpy as np\n",
        "num_samples = 1000\n",
        "max_length = 100\n",
        "\n",
        "text = np.random.randint(1, text_vocab_size, size=(num_samples, max_length))\n",
        "question = np.random.randint(1, question_vocab_size, size=(num_samples, max_length))\n",
        "\n",
        "answers = np.random.randint(0, ans_vocab_size, size=num_samples)\n",
        "answers = tf.keras.utils.to_categorical(answers) #to_categorical 에 대해 알면됨\n",
        "\n",
        "model1.fit({'text':text,'question':question}, answers, epochs=10, batch_size=128)"
      ],
      "metadata": {
        "colab": {
          "base_uri": "https://localhost:8080/"
        },
        "id": "YT5Fb0Bp8G8S",
        "outputId": "4b07e196-7659-456c-bc87-af9c571b402b"
      },
      "execution_count": 63,
      "outputs": [
        {
          "output_type": "stream",
          "name": "stdout",
          "text": [
            "Epoch 1/10\n",
            "8/8 [==============================] - 6s 110ms/step - loss: 6.2148 - acc: 0.0020\n",
            "Epoch 2/10\n",
            "8/8 [==============================] - 1s 118ms/step - loss: 6.2099 - acc: 0.0050\n",
            "Epoch 3/10\n",
            "8/8 [==============================] - 1s 107ms/step - loss: 6.2064 - acc: 0.0060\n",
            "Epoch 4/10\n",
            "8/8 [==============================] - 1s 106ms/step - loss: 6.2029 - acc: 0.0080\n",
            "Epoch 5/10\n",
            "8/8 [==============================] - 1s 106ms/step - loss: 6.1992 - acc: 0.0070\n",
            "Epoch 6/10\n",
            "8/8 [==============================] - 1s 111ms/step - loss: 6.1946 - acc: 0.0070\n",
            "Epoch 7/10\n",
            "8/8 [==============================] - 1s 159ms/step - loss: 6.1870 - acc: 0.0070\n",
            "Epoch 8/10\n",
            "8/8 [==============================] - 1s 171ms/step - loss: 6.1680 - acc: 0.0050\n",
            "Epoch 9/10\n",
            "8/8 [==============================] - 1s 183ms/step - loss: 6.1369 - acc: 0.0070\n",
            "Epoch 10/10\n",
            "8/8 [==============================] - 1s 183ms/step - loss: 6.1028 - acc: 0.0060\n"
          ]
        },
        {
          "output_type": "execute_result",
          "data": {
            "text/plain": [
              "<keras.src.callbacks.History at 0x7eea87ad68f0>"
            ]
          },
          "metadata": {},
          "execution_count": 63
        }
      ]
    },
    {
      "cell_type": "code",
      "source": [
        "test_text = np.random.randint(0,text_vocab_size, size = (1,max_length))\n",
        "test_question = np.random.randint(0, question_vocab_size, size = (1,max_length))\n",
        "\n",
        "\n",
        "pred = model1.predict([test_text,test_question])\n",
        "np.argmax(pred,axis=1)\n",
        "\n"
      ],
      "metadata": {
        "colab": {
          "base_uri": "https://localhost:8080/"
        },
        "id": "xmHS02bt9UJi",
        "outputId": "74d4040a-2588-45ab-fba8-4f81ab6f0e51"
      },
      "execution_count": 71,
      "outputs": [
        {
          "output_type": "stream",
          "name": "stdout",
          "text": [
            "1/1 [==============================] - 0s 42ms/step\n"
          ]
        },
        {
          "output_type": "execute_result",
          "data": {
            "text/plain": [
              "array([449])"
            ]
          },
          "metadata": {},
          "execution_count": 71
        }
      ]
    },
    {
      "cell_type": "markdown",
      "source": [
        "a = np.random.randint(0, 500, size=1000) #1차원 배열\n",
        "a = tf.keras.utils.to_categorical(a)\n",
        "\n",
        "for i in range(0,a.shape[0]):\n",
        "  for j in range(0,a.shape[1]):\n",
        "    print(a[i][j], end=' ')\n",
        "  print()"
      ],
      "metadata": {
        "id": "LFg5qFlRIAXi"
      }
    },
    {
      "cell_type": "code",
      "source": [],
      "metadata": {
        "colab": {
          "base_uri": "https://localhost:8080/"
        },
        "id": "nKmH4SWsLnIO",
        "outputId": "c3fad62a-b5a3-4a3a-fa89-8c9484d8cfc3"
      },
      "execution_count": 45,
      "outputs": [
        {
          "output_type": "execute_result",
          "data": {
            "text/plain": [
              "205"
            ]
          },
          "metadata": {},
          "execution_count": 45
        }
      ]
    }
  ]
}
